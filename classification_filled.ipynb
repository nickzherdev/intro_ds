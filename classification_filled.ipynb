{
 "cells": [
  {
   "cell_type": "markdown",
   "metadata": {
    "slideshow": {
     "slide_type": "slide"
    }
   },
   "source": [
    "# Seminar 4. Classification & Cross-validation"
   ]
  },
  {
   "cell_type": "markdown",
   "metadata": {
    "slideshow": {
     "slide_type": "fragment"
    }
   },
   "source": [
    "#### Regression & model complexity lectures recap"
   ]
  },
  {
   "cell_type": "markdown",
   "metadata": {
    "slideshow": {
     "slide_type": "slide"
    }
   },
   "source": [
    "# Examples of supervised DS problems"
   ]
  },
  {
   "cell_type": "markdown",
   "metadata": {
    "slideshow": {
     "slide_type": "slide"
    }
   },
   "source": [
    "## Iris Data Set\n",
    "https://archive.ics.uci.edu/ml/datasets/Iris"
   ]
  },
  {
   "cell_type": "markdown",
   "metadata": {
    "slideshow": {
     "slide_type": "fragment"
    }
   },
   "source": [
    "The data set contains 3 classes of 50 instances each, where each class refers to a type of iris plant\n",
    "\n",
    "This is perhaps the best known database to be found in the pattern recognition literature. \n",
    "\n",
    "Fisher's paper is a classic in the field and is referenced frequently to this day. (See Duda & Hart, for example.) \n",
    "\n",
    "\n"
   ]
  },
  {
   "cell_type": "markdown",
   "metadata": {
    "slideshow": {
     "slide_type": "subslide"
    }
   },
   "source": [
    "** Inputs // Features // X**: Flower sizes  \n",
    "  1. sepal length in cm \n",
    "  2. sepal width in cm \n",
    "  3. petal length in cm \n",
    "  4. petal width in cm \n",
    "  \n",
    "<div style=\"width:25%; text-align:center\">\n",
    "<img src=\"http://sebastianraschka.com/images/blog/2014/linear-discriminant-analysis/iris_petal_sepal.png\" width=500px>\n",
    "</div>\n",
    "\n",
    "The picture is taken from a very detailed [blogpost](http://sebastianraschka.com/Articles/2014_python_lda.html) on Linear Discriminant analysis"
   ]
  },
  {
   "cell_type": "markdown",
   "metadata": {
    "slideshow": {
     "slide_type": "subslide"
    }
   },
   "source": [
    "** Output // Target // Y**: Type of iris plant\n",
    " - Iris Setosa \n",
    " - Iris Versicolour \n",
    " - Iris Virginica\n",
    " \n",
    "<div style=\"width:100%; text-align:center\">\n",
    "<img src=\"http://articles.concreteinteractive.com/wp-content/uploads/2015/03/irises.png\" width=500px>\n",
    "</div>\n",
    "\n",
    "The picture is taken from a very detailed [blogpost](http://sebastianraschka.com/Articles/2014_python_lda.html) on Linear Discriminant analysis"
   ]
  },
  {
   "cell_type": "markdown",
   "metadata": {
    "slideshow": {
     "slide_type": "slide"
    }
   },
   "source": [
    "##  Shuttle Landing Control Data Set\n",
    "https://archive.ics.uci.edu/ml/datasets/Shuttle+Landing+Control"
   ]
  },
  {
   "cell_type": "markdown",
   "metadata": {
    "slideshow": {
     "slide_type": "subslide"
    }
   },
   "source": [
    "Determining the conditions under which an autolanding would be preferable to manual control of the spacecraft.\n",
    "\n",
    "<div style=\"width:30%; text-align:center\">\n",
    "<img src=\"https://archive.ics.uci.edu/ml/assets/MLimages/Large92.jpg\" width=500px>\n",
    "</div>"
   ]
  },
  {
   "cell_type": "markdown",
   "metadata": {
    "slideshow": {
     "slide_type": "subslide"
    }
   },
   "source": [
    "** Inputs // Features // X**: Flight conditions  \n",
    "\n",
    "2. STABILITY: stab, xstab \n",
    "3. ERROR: XL, LX, MM, SS \n",
    "4. SIGN: pp, nn \n",
    "5. WIND: head, tail \n",
    "6. MAGNITUDE: Low, Medium, Strong, OutOfRange \n",
    "7. VISIBILITY: yes, no\n",
    "\n"
   ]
  },
  {
   "cell_type": "markdown",
   "metadata": {
    "slideshow": {
     "slide_type": "fragment"
    }
   },
   "source": [
    "** Output // Target // Y**: Type of control\n",
    "\n",
    "Auto or manual landing\n"
   ]
  },
  {
   "cell_type": "markdown",
   "metadata": {
    "slideshow": {
     "slide_type": "slide"
    }
   },
   "source": [
    "## Mice Protein Expression Data Set\n",
    "https://archive.ics.uci.edu/ml/datasets/Mice+Protein+Expression"
   ]
  },
  {
   "cell_type": "markdown",
   "metadata": {
    "collapsed": true,
    "slideshow": {
     "slide_type": "subslide"
    }
   },
   "source": [
    "- The data set consists of the expression levels of 77 proteins that produced detectable signals in the nuclear fraction of cortex.\n",
    "- There are 38 control mice and 34 trisomic mice (Down syndrome). \n",
    "- In the experiments, 15 measurements were registered of each protein per sample/mouse. \n",
    "- Therefore, for control mice, there are 38x15, or 570 measurements, and for trisomic mice, there are 34x15, or 510 measurements. So, the dataset contains a total of 1080 measurements per protein. \n",
    "- Each measurement can be considered as an independent sample/mouse. "
   ]
  },
  {
   "cell_type": "markdown",
   "metadata": {
    "slideshow": {
     "slide_type": "subslide"
    }
   },
   "source": [
    "Classes: \n",
    " - c-CS-s: control mice, stimulated to learn, injected with saline (9 mice) \n",
    " - c-CS-m: control mice, stimulated to learn, injected with memantine (10 mice) \n",
    " - c-SC-s: control mice, not stimulated to learn, injected with saline (9 mice) \n",
    " - c-SC-m: control mice, not stimulated to learn, injected with memantine (10 mice) \n",
    "\n",
    " - t-CS-s: trisomy mice, stimulated to learn, injected with saline (7 mice) \n",
    " - t-CS-m: trisomy mice, stimulated to learn, injected with memantine (9 mice) \n",
    " - t-SC-s: trisomy mice, not stimulated to learn, injected with saline (9 mice) \n",
    " - t-SC-m: trisomy mice, not stimulated to learn, injected with memantine (9 mice) "
   ]
  },
  {
   "cell_type": "markdown",
   "metadata": {
    "slideshow": {
     "slide_type": "subslide"
    }
   },
   "source": [
    "** Inputs // Features // X**: the expression levels of 77 proteins \n",
    "\n",
    "** Output // Target // Y**: Control or trisomy"
   ]
  },
  {
   "cell_type": "markdown",
   "metadata": {
    "slideshow": {
     "slide_type": "slide"
    }
   },
   "source": [
    "## Exploring the *Titanic* dataset (continued)"
   ]
  },
  {
   "cell_type": "markdown",
   "metadata": {
    "slideshow": {
     "slide_type": "subslide"
    }
   },
   "source": [
    "<div style=\"width:100%; text-align:center\">\n",
    "<img src=\"http://upload.wikimedia.org/wikipedia/commons/6/6e/St%C3%B6wer_Titanic.jpg\" width=500px>\n",
    "</div>"
   ]
  },
  {
   "cell_type": "markdown",
   "metadata": {
    "slideshow": {
     "slide_type": "subslide"
    }
   },
   "source": [
    "Kaggle has a nice [dataset](https://www.kaggle.com/c/titanic-gettingStarted) with information about passengers on the *Titanic*. It's meant as an introduction to predictive models -- here, predicting who survived the sinking. Let's explore it using [seaborn](http://stanford.edu/~mwaskom/software/seaborn/). This notebook mostly demonstrates features in development for version 0.3. Please [get in touch](https://github.com/mwaskom/seaborn/issues/new) if you have ideas for how they could be improved."
   ]
  },
  {
   "cell_type": "code",
   "execution_count": 80,
   "metadata": {
    "slideshow": {
     "slide_type": "subslide"
    }
   },
   "outputs": [],
   "source": [
    "import numpy as np\n",
    "import pandas as pd\n",
    "import seaborn as sns\n",
    "sns.set()  # apply seaborn appearance to all figures\n",
    "\n",
    "from matplotlib import pyplot as plt\n",
    "%matplotlib inline \n",
    "\n",
    "# ignore FutureWarning from sklearn\n",
    "from warnings import simplefilter\n",
    "simplefilter(action='ignore', category=FutureWarning)"
   ]
  },
  {
   "cell_type": "code",
   "execution_count": 2,
   "metadata": {
    "slideshow": {
     "slide_type": "subslide"
    }
   },
   "outputs": [
    {
     "data": {
      "text/html": [
       "<div>\n",
       "<style scoped>\n",
       "    .dataframe tbody tr th:only-of-type {\n",
       "        vertical-align: middle;\n",
       "    }\n",
       "\n",
       "    .dataframe tbody tr th {\n",
       "        vertical-align: top;\n",
       "    }\n",
       "\n",
       "    .dataframe thead th {\n",
       "        text-align: right;\n",
       "    }\n",
       "</style>\n",
       "<table border=\"1\" class=\"dataframe\">\n",
       "  <thead>\n",
       "    <tr style=\"text-align: right;\">\n",
       "      <th></th>\n",
       "      <th>survived</th>\n",
       "      <th>pclass</th>\n",
       "      <th>name</th>\n",
       "      <th>sex</th>\n",
       "      <th>age</th>\n",
       "      <th>sibsp</th>\n",
       "      <th>parch</th>\n",
       "      <th>ticket</th>\n",
       "      <th>fare</th>\n",
       "      <th>cabin</th>\n",
       "      <th>embarked</th>\n",
       "    </tr>\n",
       "  </thead>\n",
       "  <tbody>\n",
       "    <tr>\n",
       "      <td>0</td>\n",
       "      <td>0</td>\n",
       "      <td>3</td>\n",
       "      <td>Braund, Mr. Owen Harris</td>\n",
       "      <td>male</td>\n",
       "      <td>22.0</td>\n",
       "      <td>1</td>\n",
       "      <td>0</td>\n",
       "      <td>A/5 21171</td>\n",
       "      <td>7.2500</td>\n",
       "      <td>NaN</td>\n",
       "      <td>S</td>\n",
       "    </tr>\n",
       "    <tr>\n",
       "      <td>1</td>\n",
       "      <td>1</td>\n",
       "      <td>1</td>\n",
       "      <td>Cumings, Mrs. John Bradley (Florence Briggs Th...</td>\n",
       "      <td>female</td>\n",
       "      <td>38.0</td>\n",
       "      <td>1</td>\n",
       "      <td>0</td>\n",
       "      <td>PC 17599</td>\n",
       "      <td>71.2833</td>\n",
       "      <td>C85</td>\n",
       "      <td>C</td>\n",
       "    </tr>\n",
       "    <tr>\n",
       "      <td>2</td>\n",
       "      <td>1</td>\n",
       "      <td>3</td>\n",
       "      <td>Heikkinen, Miss. Laina</td>\n",
       "      <td>female</td>\n",
       "      <td>26.0</td>\n",
       "      <td>0</td>\n",
       "      <td>0</td>\n",
       "      <td>STON/O2. 3101282</td>\n",
       "      <td>7.9250</td>\n",
       "      <td>NaN</td>\n",
       "      <td>S</td>\n",
       "    </tr>\n",
       "    <tr>\n",
       "      <td>3</td>\n",
       "      <td>1</td>\n",
       "      <td>1</td>\n",
       "      <td>Futrelle, Mrs. Jacques Heath (Lily May Peel)</td>\n",
       "      <td>female</td>\n",
       "      <td>35.0</td>\n",
       "      <td>1</td>\n",
       "      <td>0</td>\n",
       "      <td>113803</td>\n",
       "      <td>53.1000</td>\n",
       "      <td>C123</td>\n",
       "      <td>S</td>\n",
       "    </tr>\n",
       "    <tr>\n",
       "      <td>4</td>\n",
       "      <td>0</td>\n",
       "      <td>3</td>\n",
       "      <td>Allen, Mr. William Henry</td>\n",
       "      <td>male</td>\n",
       "      <td>35.0</td>\n",
       "      <td>0</td>\n",
       "      <td>0</td>\n",
       "      <td>373450</td>\n",
       "      <td>8.0500</td>\n",
       "      <td>NaN</td>\n",
       "      <td>S</td>\n",
       "    </tr>\n",
       "  </tbody>\n",
       "</table>\n",
       "</div>"
      ],
      "text/plain": [
       "   survived  pclass                                               name  \\\n",
       "0         0       3                            Braund, Mr. Owen Harris   \n",
       "1         1       1  Cumings, Mrs. John Bradley (Florence Briggs Th...   \n",
       "2         1       3                             Heikkinen, Miss. Laina   \n",
       "3         1       1       Futrelle, Mrs. Jacques Heath (Lily May Peel)   \n",
       "4         0       3                           Allen, Mr. William Henry   \n",
       "\n",
       "      sex   age  sibsp  parch            ticket     fare cabin embarked  \n",
       "0    male  22.0      1      0         A/5 21171   7.2500   NaN        S  \n",
       "1  female  38.0      1      0          PC 17599  71.2833   C85        C  \n",
       "2  female  26.0      0      0  STON/O2. 3101282   7.9250   NaN        S  \n",
       "3  female  35.0      1      0            113803  53.1000  C123        S  \n",
       "4    male  35.0      0      0            373450   8.0500   NaN        S  "
      ]
     },
     "execution_count": 2,
     "metadata": {},
     "output_type": "execute_result"
    }
   ],
   "source": [
    "url = \"https://raw.github.com/mattdelhey/kaggle-titanic/master/Data/train.csv\"\n",
    "titanic = pd.read_csv(url)\n",
    "titanic.head()"
   ]
  },
  {
   "cell_type": "code",
   "execution_count": 3,
   "metadata": {
    "slideshow": {
     "slide_type": "subslide"
    }
   },
   "outputs": [
    {
     "data": {
      "text/html": [
       "<div>\n",
       "<style scoped>\n",
       "    .dataframe tbody tr th:only-of-type {\n",
       "        vertical-align: middle;\n",
       "    }\n",
       "\n",
       "    .dataframe tbody tr th {\n",
       "        vertical-align: top;\n",
       "    }\n",
       "\n",
       "    .dataframe thead th {\n",
       "        text-align: right;\n",
       "    }\n",
       "</style>\n",
       "<table border=\"1\" class=\"dataframe\">\n",
       "  <thead>\n",
       "    <tr style=\"text-align: right;\">\n",
       "      <th></th>\n",
       "      <th>survived</th>\n",
       "      <th>pclass</th>\n",
       "      <th>sex</th>\n",
       "      <th>age</th>\n",
       "      <th>sibsp</th>\n",
       "      <th>parch</th>\n",
       "      <th>fare</th>\n",
       "      <th>embarked_C</th>\n",
       "      <th>embarked_Q</th>\n",
       "      <th>embarked_S</th>\n",
       "      <th>embarked_nan</th>\n",
       "    </tr>\n",
       "  </thead>\n",
       "  <tbody>\n",
       "    <tr>\n",
       "      <td>0</td>\n",
       "      <td>0</td>\n",
       "      <td>3</td>\n",
       "      <td>0</td>\n",
       "      <td>22.0</td>\n",
       "      <td>1</td>\n",
       "      <td>0</td>\n",
       "      <td>7.2500</td>\n",
       "      <td>0</td>\n",
       "      <td>0</td>\n",
       "      <td>1</td>\n",
       "      <td>0</td>\n",
       "    </tr>\n",
       "    <tr>\n",
       "      <td>1</td>\n",
       "      <td>1</td>\n",
       "      <td>1</td>\n",
       "      <td>1</td>\n",
       "      <td>38.0</td>\n",
       "      <td>1</td>\n",
       "      <td>0</td>\n",
       "      <td>71.2833</td>\n",
       "      <td>1</td>\n",
       "      <td>0</td>\n",
       "      <td>0</td>\n",
       "      <td>0</td>\n",
       "    </tr>\n",
       "    <tr>\n",
       "      <td>2</td>\n",
       "      <td>1</td>\n",
       "      <td>3</td>\n",
       "      <td>1</td>\n",
       "      <td>26.0</td>\n",
       "      <td>0</td>\n",
       "      <td>0</td>\n",
       "      <td>7.9250</td>\n",
       "      <td>0</td>\n",
       "      <td>0</td>\n",
       "      <td>1</td>\n",
       "      <td>0</td>\n",
       "    </tr>\n",
       "    <tr>\n",
       "      <td>3</td>\n",
       "      <td>1</td>\n",
       "      <td>1</td>\n",
       "      <td>1</td>\n",
       "      <td>35.0</td>\n",
       "      <td>1</td>\n",
       "      <td>0</td>\n",
       "      <td>53.1000</td>\n",
       "      <td>0</td>\n",
       "      <td>0</td>\n",
       "      <td>1</td>\n",
       "      <td>0</td>\n",
       "    </tr>\n",
       "    <tr>\n",
       "      <td>4</td>\n",
       "      <td>0</td>\n",
       "      <td>3</td>\n",
       "      <td>0</td>\n",
       "      <td>35.0</td>\n",
       "      <td>0</td>\n",
       "      <td>0</td>\n",
       "      <td>8.0500</td>\n",
       "      <td>0</td>\n",
       "      <td>0</td>\n",
       "      <td>1</td>\n",
       "      <td>0</td>\n",
       "    </tr>\n",
       "  </tbody>\n",
       "</table>\n",
       "</div>"
      ],
      "text/plain": [
       "   survived  pclass  sex   age  sibsp  parch     fare  embarked_C  embarked_Q  \\\n",
       "0         0       3    0  22.0      1      0   7.2500           0           0   \n",
       "1         1       1    1  38.0      1      0  71.2833           1           0   \n",
       "2         1       3    1  26.0      0      0   7.9250           0           0   \n",
       "3         1       1    1  35.0      1      0  53.1000           0           0   \n",
       "4         0       3    0  35.0      0      0   8.0500           0           0   \n",
       "\n",
       "   embarked_S  embarked_nan  \n",
       "0           1             0  \n",
       "1           0             0  \n",
       "2           1             0  \n",
       "3           1             0  \n",
       "4           1             0  "
      ]
     },
     "execution_count": 3,
     "metadata": {},
     "output_type": "execute_result"
    }
   ],
   "source": [
    "titanic = titanic.drop([\"name\", \"ticket\", \"cabin\"], axis=1)\n",
    "titanic[\"sex\"] = titanic.sex.map({\"male\":0, \"female\":1})\n",
    "titanic = pd.get_dummies(titanic, dummy_na=True, columns=['embarked',])\n",
    "titanic.head()"
   ]
  },
  {
   "cell_type": "code",
   "execution_count": 4,
   "metadata": {
    "slideshow": {
     "slide_type": "subslide"
    }
   },
   "outputs": [],
   "source": [
    "from sklearn.neighbors import KNeighborsClassifier\n",
    "from sklearn.metrics import accuracy_score\n",
    "X = titanic.drop('survived', axis=1)\n",
    "y = titanic.survived"
   ]
  },
  {
   "cell_type": "code",
   "execution_count": 5,
   "metadata": {
    "slideshow": {
     "slide_type": "subslide"
    }
   },
   "outputs": [
    {
     "ename": "ValueError",
     "evalue": "Input contains NaN, infinity or a value too large for dtype('float64').",
     "output_type": "error",
     "traceback": [
      "\u001b[0;31m---------------------------------------------------------------------------\u001b[0m",
      "\u001b[0;31mValueError\u001b[0m                                Traceback (most recent call last)",
      "\u001b[0;32m<ipython-input-5-2a365f79e1e3>\u001b[0m in \u001b[0;36m<module>\u001b[0;34m()\u001b[0m\n\u001b[1;32m      1\u001b[0m \u001b[0mclf\u001b[0m \u001b[0;34m=\u001b[0m \u001b[0mKNeighborsClassifier\u001b[0m\u001b[0;34m(\u001b[0m\u001b[0;34m)\u001b[0m\u001b[0;34m\u001b[0m\u001b[0;34m\u001b[0m\u001b[0m\n\u001b[0;32m----> 2\u001b[0;31m \u001b[0mclf\u001b[0m\u001b[0;34m.\u001b[0m\u001b[0mfit\u001b[0m\u001b[0;34m(\u001b[0m\u001b[0mX\u001b[0m\u001b[0;34m,\u001b[0m \u001b[0my\u001b[0m\u001b[0;34m)\u001b[0m\u001b[0;34m\u001b[0m\u001b[0;34m\u001b[0m\u001b[0m\n\u001b[0m",
      "\u001b[0;32m/home/mikhail/.anaconda3/lib/python3.6/site-packages/sklearn/neighbors/base.py\u001b[0m in \u001b[0;36mfit\u001b[0;34m(self, X, y)\u001b[0m\n\u001b[1;32m    890\u001b[0m         \"\"\"\n\u001b[1;32m    891\u001b[0m         \u001b[0;32mif\u001b[0m \u001b[0;32mnot\u001b[0m \u001b[0misinstance\u001b[0m\u001b[0;34m(\u001b[0m\u001b[0mX\u001b[0m\u001b[0;34m,\u001b[0m \u001b[0;34m(\u001b[0m\u001b[0mKDTree\u001b[0m\u001b[0;34m,\u001b[0m \u001b[0mBallTree\u001b[0m\u001b[0;34m)\u001b[0m\u001b[0;34m)\u001b[0m\u001b[0;34m:\u001b[0m\u001b[0;34m\u001b[0m\u001b[0;34m\u001b[0m\u001b[0m\n\u001b[0;32m--> 892\u001b[0;31m             \u001b[0mX\u001b[0m\u001b[0;34m,\u001b[0m \u001b[0my\u001b[0m \u001b[0;34m=\u001b[0m \u001b[0mcheck_X_y\u001b[0m\u001b[0;34m(\u001b[0m\u001b[0mX\u001b[0m\u001b[0;34m,\u001b[0m \u001b[0my\u001b[0m\u001b[0;34m,\u001b[0m \u001b[0;34m\"csr\"\u001b[0m\u001b[0;34m,\u001b[0m \u001b[0mmulti_output\u001b[0m\u001b[0;34m=\u001b[0m\u001b[0;32mTrue\u001b[0m\u001b[0;34m)\u001b[0m\u001b[0;34m\u001b[0m\u001b[0;34m\u001b[0m\u001b[0m\n\u001b[0m\u001b[1;32m    893\u001b[0m \u001b[0;34m\u001b[0m\u001b[0m\n\u001b[1;32m    894\u001b[0m         \u001b[0;32mif\u001b[0m \u001b[0my\u001b[0m\u001b[0;34m.\u001b[0m\u001b[0mndim\u001b[0m \u001b[0;34m==\u001b[0m \u001b[0;36m1\u001b[0m \u001b[0;32mor\u001b[0m \u001b[0my\u001b[0m\u001b[0;34m.\u001b[0m\u001b[0mndim\u001b[0m \u001b[0;34m==\u001b[0m \u001b[0;36m2\u001b[0m \u001b[0;32mand\u001b[0m \u001b[0my\u001b[0m\u001b[0;34m.\u001b[0m\u001b[0mshape\u001b[0m\u001b[0;34m[\u001b[0m\u001b[0;36m1\u001b[0m\u001b[0;34m]\u001b[0m \u001b[0;34m==\u001b[0m \u001b[0;36m1\u001b[0m\u001b[0;34m:\u001b[0m\u001b[0;34m\u001b[0m\u001b[0;34m\u001b[0m\u001b[0m\n",
      "\u001b[0;32m/home/mikhail/.anaconda3/lib/python3.6/site-packages/sklearn/utils/validation.py\u001b[0m in \u001b[0;36mcheck_X_y\u001b[0;34m(X, y, accept_sparse, accept_large_sparse, dtype, order, copy, force_all_finite, ensure_2d, allow_nd, multi_output, ensure_min_samples, ensure_min_features, y_numeric, warn_on_dtype, estimator)\u001b[0m\n\u001b[1;32m    717\u001b[0m                     \u001b[0mensure_min_features\u001b[0m\u001b[0;34m=\u001b[0m\u001b[0mensure_min_features\u001b[0m\u001b[0;34m,\u001b[0m\u001b[0;34m\u001b[0m\u001b[0;34m\u001b[0m\u001b[0m\n\u001b[1;32m    718\u001b[0m                     \u001b[0mwarn_on_dtype\u001b[0m\u001b[0;34m=\u001b[0m\u001b[0mwarn_on_dtype\u001b[0m\u001b[0;34m,\u001b[0m\u001b[0;34m\u001b[0m\u001b[0;34m\u001b[0m\u001b[0m\n\u001b[0;32m--> 719\u001b[0;31m                     estimator=estimator)\n\u001b[0m\u001b[1;32m    720\u001b[0m     \u001b[0;32mif\u001b[0m \u001b[0mmulti_output\u001b[0m\u001b[0;34m:\u001b[0m\u001b[0;34m\u001b[0m\u001b[0;34m\u001b[0m\u001b[0m\n\u001b[1;32m    721\u001b[0m         y = check_array(y, 'csr', force_all_finite=True, ensure_2d=False,\n",
      "\u001b[0;32m/home/mikhail/.anaconda3/lib/python3.6/site-packages/sklearn/utils/validation.py\u001b[0m in \u001b[0;36mcheck_array\u001b[0;34m(array, accept_sparse, accept_large_sparse, dtype, order, copy, force_all_finite, ensure_2d, allow_nd, ensure_min_samples, ensure_min_features, warn_on_dtype, estimator)\u001b[0m\n\u001b[1;32m    540\u001b[0m         \u001b[0;32mif\u001b[0m \u001b[0mforce_all_finite\u001b[0m\u001b[0;34m:\u001b[0m\u001b[0;34m\u001b[0m\u001b[0;34m\u001b[0m\u001b[0m\n\u001b[1;32m    541\u001b[0m             _assert_all_finite(array,\n\u001b[0;32m--> 542\u001b[0;31m                                allow_nan=force_all_finite == 'allow-nan')\n\u001b[0m\u001b[1;32m    543\u001b[0m \u001b[0;34m\u001b[0m\u001b[0m\n\u001b[1;32m    544\u001b[0m     \u001b[0;32mif\u001b[0m \u001b[0mensure_min_samples\u001b[0m \u001b[0;34m>\u001b[0m \u001b[0;36m0\u001b[0m\u001b[0;34m:\u001b[0m\u001b[0;34m\u001b[0m\u001b[0;34m\u001b[0m\u001b[0m\n",
      "\u001b[0;32m/home/mikhail/.anaconda3/lib/python3.6/site-packages/sklearn/utils/validation.py\u001b[0m in \u001b[0;36m_assert_all_finite\u001b[0;34m(X, allow_nan)\u001b[0m\n\u001b[1;32m     54\u001b[0m                 not allow_nan and not np.isfinite(X).all()):\n\u001b[1;32m     55\u001b[0m             \u001b[0mtype_err\u001b[0m \u001b[0;34m=\u001b[0m \u001b[0;34m'infinity'\u001b[0m \u001b[0;32mif\u001b[0m \u001b[0mallow_nan\u001b[0m \u001b[0;32melse\u001b[0m \u001b[0;34m'NaN, infinity'\u001b[0m\u001b[0;34m\u001b[0m\u001b[0;34m\u001b[0m\u001b[0m\n\u001b[0;32m---> 56\u001b[0;31m             \u001b[0;32mraise\u001b[0m \u001b[0mValueError\u001b[0m\u001b[0;34m(\u001b[0m\u001b[0mmsg_err\u001b[0m\u001b[0;34m.\u001b[0m\u001b[0mformat\u001b[0m\u001b[0;34m(\u001b[0m\u001b[0mtype_err\u001b[0m\u001b[0;34m,\u001b[0m \u001b[0mX\u001b[0m\u001b[0;34m.\u001b[0m\u001b[0mdtype\u001b[0m\u001b[0;34m)\u001b[0m\u001b[0;34m)\u001b[0m\u001b[0;34m\u001b[0m\u001b[0;34m\u001b[0m\u001b[0m\n\u001b[0m\u001b[1;32m     57\u001b[0m     \u001b[0;31m# for object dtype data, we only check for NaNs (GH-13254)\u001b[0m\u001b[0;34m\u001b[0m\u001b[0;34m\u001b[0m\u001b[0;34m\u001b[0m\u001b[0m\n\u001b[1;32m     58\u001b[0m     \u001b[0;32melif\u001b[0m \u001b[0mX\u001b[0m\u001b[0;34m.\u001b[0m\u001b[0mdtype\u001b[0m \u001b[0;34m==\u001b[0m \u001b[0mnp\u001b[0m\u001b[0;34m.\u001b[0m\u001b[0mdtype\u001b[0m\u001b[0;34m(\u001b[0m\u001b[0;34m'object'\u001b[0m\u001b[0;34m)\u001b[0m \u001b[0;32mand\u001b[0m \u001b[0;32mnot\u001b[0m \u001b[0mallow_nan\u001b[0m\u001b[0;34m:\u001b[0m\u001b[0;34m\u001b[0m\u001b[0;34m\u001b[0m\u001b[0m\n",
      "\u001b[0;31mValueError\u001b[0m: Input contains NaN, infinity or a value too large for dtype('float64')."
     ]
    }
   ],
   "source": [
    "clf = KNeighborsClassifier()\n",
    "clf.fit(X, y)"
   ]
  },
  {
   "cell_type": "code",
   "execution_count": 6,
   "metadata": {},
   "outputs": [
    {
     "name": "stdout",
     "output_type": "stream",
     "text": [
      "pclass          891\n",
      "sex             891\n",
      "age             714\n",
      "sibsp           891\n",
      "parch           891\n",
      "fare            891\n",
      "embarked_C      891\n",
      "embarked_Q      891\n",
      "embarked_S      891\n",
      "embarked_nan    891\n",
      "dtype: int64\n"
     ]
    }
   ],
   "source": [
    "print(X.count())"
   ]
  },
  {
   "cell_type": "code",
   "execution_count": 7,
   "metadata": {
    "slideshow": {
     "slide_type": "subslide"
    }
   },
   "outputs": [
    {
     "name": "stdout",
     "output_type": "stream",
     "text": [
      "pclass          714\n",
      "sex             714\n",
      "age             714\n",
      "sibsp           714\n",
      "parch           714\n",
      "fare            714\n",
      "embarked_C      714\n",
      "embarked_Q      714\n",
      "embarked_S      714\n",
      "embarked_nan    714\n",
      "dtype: int64\n"
     ]
    }
   ],
   "source": [
    "# we have to remove NaN\n",
    "X.dropna(axis=0, inplace=True)\n",
    "print(X.count())\n",
    "y = y[X.index].values"
   ]
  },
  {
   "cell_type": "code",
   "execution_count": 8,
   "metadata": {
    "slideshow": {
     "slide_type": "subslide"
    }
   },
   "outputs": [
    {
     "name": "stdout",
     "output_type": "stream",
     "text": [
      "Accuracy of prediction is 0.9831932773109243\n"
     ]
    }
   ],
   "source": [
    "clf = KNeighborsClassifier(n_neighbors=1)\n",
    "clf.fit(X, y)\n",
    "y_predicted = clf.predict(X)\n",
    "print('Accuracy of prediction is {}'.format(accuracy_score(y, y_predicted)))"
   ]
  },
  {
   "cell_type": "markdown",
   "metadata": {
    "slideshow": {
     "slide_type": "subslide"
    }
   },
   "source": [
    "#### Bias-variance tradeoff\n",
    "\n",
    "<div style=\"width:100%; text-align:center\">\n",
    "<img src=\"http://scott.fortmann-roe.com/docs/docs/BiasVariance/biasvariance.png\" width=500px>\n",
    "</div>\n",
    "\n",
    "Check a great tutorial http://scott.fortmann-roe.com/docs/BiasVariance.html"
   ]
  },
  {
   "cell_type": "code",
   "execution_count": 9,
   "metadata": {
    "slideshow": {
     "slide_type": "subslide"
    }
   },
   "outputs": [
    {
     "name": "stdout",
     "output_type": "stream",
     "text": [
      "Accuracy of prediction on train set is 0.9937238493723849\n"
     ]
    }
   ],
   "source": [
    "from sklearn.model_selection import train_test_split\n",
    "\n",
    "X_train, X_test, y_train, y_test = train_test_split(X, y, test_size=0.33)\n",
    "clf.fit(X_train, y_train)\n",
    "y_predicted = clf.predict(X_train)\n",
    "print('Accuracy of prediction on train set is {}'.format(accuracy_score(y_train, y_predicted)))"
   ]
  },
  {
   "cell_type": "code",
   "execution_count": 10,
   "metadata": {
    "slideshow": {
     "slide_type": "subslide"
    }
   },
   "outputs": [
    {
     "name": "stdout",
     "output_type": "stream",
     "text": [
      "Accuracy of prediction on test set is 0.690677966101695\n"
     ]
    }
   ],
   "source": [
    "y_predicted = clf.predict(X_test)\n",
    "print('Accuracy of prediction on test set is {}'.format(accuracy_score(y_test, y_predicted)))"
   ]
  },
  {
   "cell_type": "markdown",
   "metadata": {
    "slideshow": {
     "slide_type": "subslide"
    }
   },
   "source": [
    "### Lets try to reproduce model complexity curves\n",
    "What is a measure of complexity for KNeighborsClassifier?"
   ]
  },
  {
   "cell_type": "code",
   "execution_count": 11,
   "metadata": {
    "scrolled": false,
    "slideshow": {
     "slide_type": "subslide"
    }
   },
   "outputs": [
    {
     "data": {
      "text/plain": [
       "Text(0, 0.5, 'Accuracy of prediction')"
      ]
     },
     "execution_count": 11,
     "metadata": {},
     "output_type": "execute_result"
    },
    {
     "data": {
      "image/png": "[encoded data removed]",
      "text/plain": [
       "<Figure size 432x288 with 1 Axes>"
      ]
     },
     "metadata": {},
     "output_type": "display_data"
    }
   ],
   "source": [
    "train_error, test_error = [], []\n",
    "neighbors_range = range(1, 50)\n",
    "for n_neighbors in neighbors_range:\n",
    "    clf = KNeighborsClassifier(n_neighbors=n_neighbors)\n",
    "    clf.fit(X_train, y_train)\n",
    "    train_error.append(accuracy_score(y_train, clf.predict(X_train)))\n",
    "    test_error.append(accuracy_score(y_test, clf.predict(X_test)))\n",
    "plt.plot(neighbors_range, train_error)\n",
    "plt.plot(neighbors_range, test_error)\n",
    "plt.xlabel('n_neighbors')\n",
    "plt.ylabel('Accuracy of prediction')"
   ]
  },
  {
   "cell_type": "markdown",
   "metadata": {
    "slideshow": {
     "slide_type": "slide"
    }
   },
   "source": [
    "# Brief intro to classification algorithms"
   ]
  },
  {
   "cell_type": "code",
   "execution_count": 12,
   "metadata": {
    "slideshow": {
     "slide_type": "subslide"
    }
   },
   "outputs": [],
   "source": [
    "import seminar4_utils as utils # plot functions"
   ]
  },
  {
   "cell_type": "markdown",
   "metadata": {
    "slideshow": {
     "slide_type": "subslide"
    }
   },
   "source": [
    "## Logistic regression"
   ]
  },
  {
   "cell_type": "code",
   "execution_count": 81,
   "metadata": {
    "slideshow": {
     "slide_type": "fragment"
    }
   },
   "outputs": [
    {
     "data": {
      "image/png": "[encoded data removed]",
      "text/plain": [
       "<Figure size 1080x360 with 3 Axes>"
      ]
     },
     "metadata": {},
     "output_type": "display_data"
    }
   ],
   "source": [
    "from sklearn.linear_model import LogisticRegression\n",
    "utils.plot_clf(LogisticRegression());"
   ]
  },
  {
   "cell_type": "markdown",
   "metadata": {
    "slideshow": {
     "slide_type": "slide"
    }
   },
   "source": [
    "## Sparcity"
   ]
  },
  {
   "cell_type": "markdown",
   "metadata": {
    "slideshow": {
     "slide_type": "subslide"
    }
   },
   "source": [
    "<div style=\"width:60%; text-align:center\">\n",
    "<img src=\"https://1.bp.blogspot.com/-tXq6Nl2lcNg/V3qzttiZ4sI/AAAAAAAAN_M/6nmjgwydWJUy5Kqt9gFg2Nb12BCTcD4ogCLcB/s1600/LASSO.png\">\n",
    "</div>"
   ]
  },
  {
   "cell_type": "code",
   "execution_count": 82,
   "metadata": {},
   "outputs": [
    {
     "data": {
      "image/png": "[encoded data removed]",
      "text/plain": [
       "<Figure size 1080x360 with 3 Axes>"
      ]
     },
     "metadata": {},
     "output_type": "display_data"
    }
   ],
   "source": [
    "utils.plot_clf(LogisticRegression(C=1e-1, penalty='l1'))"
   ]
  },
  {
   "cell_type": "markdown",
   "metadata": {},
   "source": [
    "## Support vector machine"
   ]
  },
  {
   "cell_type": "code",
   "execution_count": 83,
   "metadata": {
    "slideshow": {
     "slide_type": "subslide"
    }
   },
   "outputs": [
    {
     "data": {
      "image/png": "[encoded data removed]",
      "text/plain": [
       "<Figure size 1080x360 with 3 Axes>"
      ]
     },
     "metadata": {},
     "output_type": "display_data"
    }
   ],
   "source": [
    "from sklearn.svm import SVC # SVC means Support Vector Classifier\n",
    "utils.plot_clf(SVC(kernel='linear'))"
   ]
  },
  {
   "cell_type": "markdown",
   "metadata": {
    "slideshow": {
     "slide_type": "subslide"
    }
   },
   "source": [
    "** Kernel trick**. Main idea\n",
    "* SVM builds a linear decision boundary in a feature space\n",
    "* Some problems cannot be solved by a linear method (Problem 1 above)\n",
    "* But what if we somehow transform our feature space?\n",
    "* For example, use $x_1^2,\\; x_1 x_2, \\; x_2^2$ as features?"
   ]
  },
  {
   "cell_type": "code",
   "execution_count": 84,
   "metadata": {
    "slideshow": {
     "slide_type": "subslide"
    }
   },
   "outputs": [
    {
     "data": {
      "image/png": "[encoded data removed]",
      "text/plain": [
       "<Figure size 1080x360 with 3 Axes>"
      ]
     },
     "metadata": {},
     "output_type": "display_data"
    }
   ],
   "source": [
    "# reload(utils)\n",
    "utils.plot_clf(SVC(kernel='poly', degree=2))"
   ]
  },
  {
   "cell_type": "markdown",
   "metadata": {
    "slideshow": {
     "slide_type": "subslide"
    }
   },
   "source": [
    "#### We can even use infinite-dimensional vector spaces!"
   ]
  },
  {
   "cell_type": "code",
   "execution_count": 85,
   "metadata": {
    "slideshow": {
     "slide_type": "fragment"
    }
   },
   "outputs": [
    {
     "data": {
      "image/png": "[encoded data removed]",
      "text/plain": [
       "<Figure size 1080x360 with 3 Axes>"
      ]
     },
     "metadata": {},
     "output_type": "display_data"
    }
   ],
   "source": [
    "utils.plot_clf(SVC(kernel='rbf', C=10**4))"
   ]
  },
  {
   "cell_type": "markdown",
   "metadata": {
    "slideshow": {
     "slide_type": "slide"
    }
   },
   "source": [
    "#  Example: Mice classification"
   ]
  },
  {
   "cell_type": "markdown",
   "metadata": {
    "slideshow": {
     "slide_type": "subslide"
    }
   },
   "source": [
    "## Mice Protein Expression Data Set\n",
    "https://archive.ics.uci.edu/ml/datasets/Mice+Protein+Expression\n",
    "- The data set consists of the expression levels of 77 proteins that produced detectable signals in the nuclear fraction of cortex.\n",
    "- There are 38 control mice and 34 trisomic mice (Down syndrome). \n",
    "- In the experiments, 15 measurements were registered of each protein per sample/mouse. \n",
    "- Therefore, for control mice, there are 38x15, or 570 measurements, and for trisomic mice, there are 34x15, or 510 measurements. So, the dataset contains a total of 1080 measurements per protein. \n",
    "- Each measurement can be considered as an independent sample/mouse. "
   ]
  },
  {
   "cell_type": "markdown",
   "metadata": {
    "slideshow": {
     "slide_type": "subslide"
    }
   },
   "source": [
    "TODO: 1. Import pandas"
   ]
  },
  {
   "cell_type": "code",
   "execution_count": 86,
   "metadata": {},
   "outputs": [],
   "source": [
    "import pandas as pd"
   ]
  },
  {
   "cell_type": "markdown",
   "metadata": {
    "slideshow": {
     "slide_type": "subslide"
    }
   },
   "source": [
    "TODO: 2. Load the Mice data set (check out *pd.read_* functions) and have a look at it\n",
    "\n",
    "*tip*: add index_col='MouseID' to your reading function to use Mouse Id as an index"
   ]
  },
  {
   "cell_type": "code",
   "execution_count": 87,
   "metadata": {
    "slideshow": {
     "slide_type": "fragment"
    }
   },
   "outputs": [],
   "source": [
    "url = 'https://archive.ics.uci.edu/ml/machine-learning-databases/00342/Data_Cortex_Nuclear.xls'\n",
    "data = pd.read_excel(url)"
   ]
  },
  {
   "cell_type": "code",
   "execution_count": 88,
   "metadata": {},
   "outputs": [],
   "source": [
    "data.set_index('MouseID', inplace=True)"
   ]
  },
  {
   "cell_type": "markdown",
   "metadata": {
    "slideshow": {
     "slide_type": "subslide"
    }
   },
   "source": [
    "TODO: 3. Identify features (X) and targets (y)"
   ]
  },
  {
   "cell_type": "code",
   "execution_count": 89,
   "metadata": {
    "slideshow": {
     "slide_type": "subslide"
    }
   },
   "outputs": [
    {
     "data": {
      "text/html": [
       "<div>\n",
       "<style scoped>\n",
       "    .dataframe tbody tr th:only-of-type {\n",
       "        vertical-align: middle;\n",
       "    }\n",
       "\n",
       "    .dataframe tbody tr th {\n",
       "        vertical-align: top;\n",
       "    }\n",
       "\n",
       "    .dataframe thead th {\n",
       "        text-align: right;\n",
       "    }\n",
       "</style>\n",
       "<table border=\"1\" class=\"dataframe\">\n",
       "  <thead>\n",
       "    <tr style=\"text-align: right;\">\n",
       "      <th></th>\n",
       "      <th>DYRK1A_N</th>\n",
       "      <th>ITSN1_N</th>\n",
       "      <th>BDNF_N</th>\n",
       "      <th>NR1_N</th>\n",
       "      <th>NR2A_N</th>\n",
       "      <th>pAKT_N</th>\n",
       "      <th>pBRAF_N</th>\n",
       "      <th>pCAMKII_N</th>\n",
       "      <th>pCREB_N</th>\n",
       "      <th>pELK_N</th>\n",
       "      <th>...</th>\n",
       "      <th>pCFOS_N</th>\n",
       "      <th>SYP_N</th>\n",
       "      <th>H3AcK18_N</th>\n",
       "      <th>EGR1_N</th>\n",
       "      <th>H3MeK4_N</th>\n",
       "      <th>CaNA_N</th>\n",
       "      <th>Genotype</th>\n",
       "      <th>Treatment</th>\n",
       "      <th>Behavior</th>\n",
       "      <th>class</th>\n",
       "    </tr>\n",
       "    <tr>\n",
       "      <th>MouseID</th>\n",
       "      <th></th>\n",
       "      <th></th>\n",
       "      <th></th>\n",
       "      <th></th>\n",
       "      <th></th>\n",
       "      <th></th>\n",
       "      <th></th>\n",
       "      <th></th>\n",
       "      <th></th>\n",
       "      <th></th>\n",
       "      <th></th>\n",
       "      <th></th>\n",
       "      <th></th>\n",
       "      <th></th>\n",
       "      <th></th>\n",
       "      <th></th>\n",
       "      <th></th>\n",
       "      <th></th>\n",
       "      <th></th>\n",
       "      <th></th>\n",
       "      <th></th>\n",
       "    </tr>\n",
       "  </thead>\n",
       "  <tbody>\n",
       "    <tr>\n",
       "      <td>309_1</td>\n",
       "      <td>0.503644</td>\n",
       "      <td>0.747193</td>\n",
       "      <td>0.430175</td>\n",
       "      <td>2.816329</td>\n",
       "      <td>5.990152</td>\n",
       "      <td>0.218830</td>\n",
       "      <td>0.177565</td>\n",
       "      <td>2.373744</td>\n",
       "      <td>0.232224</td>\n",
       "      <td>1.750936</td>\n",
       "      <td>...</td>\n",
       "      <td>0.108336</td>\n",
       "      <td>0.427099</td>\n",
       "      <td>0.114783</td>\n",
       "      <td>0.131790</td>\n",
       "      <td>0.128186</td>\n",
       "      <td>1.675652</td>\n",
       "      <td>Control</td>\n",
       "      <td>Memantine</td>\n",
       "      <td>C/S</td>\n",
       "      <td>c-CS-m</td>\n",
       "    </tr>\n",
       "    <tr>\n",
       "      <td>309_2</td>\n",
       "      <td>0.514617</td>\n",
       "      <td>0.689064</td>\n",
       "      <td>0.411770</td>\n",
       "      <td>2.789514</td>\n",
       "      <td>5.685038</td>\n",
       "      <td>0.211636</td>\n",
       "      <td>0.172817</td>\n",
       "      <td>2.292150</td>\n",
       "      <td>0.226972</td>\n",
       "      <td>1.596377</td>\n",
       "      <td>...</td>\n",
       "      <td>0.104315</td>\n",
       "      <td>0.441581</td>\n",
       "      <td>0.111974</td>\n",
       "      <td>0.135103</td>\n",
       "      <td>0.131119</td>\n",
       "      <td>1.743610</td>\n",
       "      <td>Control</td>\n",
       "      <td>Memantine</td>\n",
       "      <td>C/S</td>\n",
       "      <td>c-CS-m</td>\n",
       "    </tr>\n",
       "    <tr>\n",
       "      <td>309_3</td>\n",
       "      <td>0.509183</td>\n",
       "      <td>0.730247</td>\n",
       "      <td>0.418309</td>\n",
       "      <td>2.687201</td>\n",
       "      <td>5.622059</td>\n",
       "      <td>0.209011</td>\n",
       "      <td>0.175722</td>\n",
       "      <td>2.283337</td>\n",
       "      <td>0.230247</td>\n",
       "      <td>1.561316</td>\n",
       "      <td>...</td>\n",
       "      <td>0.106219</td>\n",
       "      <td>0.435777</td>\n",
       "      <td>0.111883</td>\n",
       "      <td>0.133362</td>\n",
       "      <td>0.127431</td>\n",
       "      <td>1.926427</td>\n",
       "      <td>Control</td>\n",
       "      <td>Memantine</td>\n",
       "      <td>C/S</td>\n",
       "      <td>c-CS-m</td>\n",
       "    </tr>\n",
       "    <tr>\n",
       "      <td>309_4</td>\n",
       "      <td>0.442107</td>\n",
       "      <td>0.617076</td>\n",
       "      <td>0.358626</td>\n",
       "      <td>2.466947</td>\n",
       "      <td>4.979503</td>\n",
       "      <td>0.222886</td>\n",
       "      <td>0.176463</td>\n",
       "      <td>2.152301</td>\n",
       "      <td>0.207004</td>\n",
       "      <td>1.595086</td>\n",
       "      <td>...</td>\n",
       "      <td>0.111262</td>\n",
       "      <td>0.391691</td>\n",
       "      <td>0.130405</td>\n",
       "      <td>0.147444</td>\n",
       "      <td>0.146901</td>\n",
       "      <td>1.700563</td>\n",
       "      <td>Control</td>\n",
       "      <td>Memantine</td>\n",
       "      <td>C/S</td>\n",
       "      <td>c-CS-m</td>\n",
       "    </tr>\n",
       "    <tr>\n",
       "      <td>309_5</td>\n",
       "      <td>0.434940</td>\n",
       "      <td>0.617430</td>\n",
       "      <td>0.358802</td>\n",
       "      <td>2.365785</td>\n",
       "      <td>4.718679</td>\n",
       "      <td>0.213106</td>\n",
       "      <td>0.173627</td>\n",
       "      <td>2.134014</td>\n",
       "      <td>0.192158</td>\n",
       "      <td>1.504230</td>\n",
       "      <td>...</td>\n",
       "      <td>0.110694</td>\n",
       "      <td>0.434154</td>\n",
       "      <td>0.118481</td>\n",
       "      <td>0.140314</td>\n",
       "      <td>0.148380</td>\n",
       "      <td>1.839730</td>\n",
       "      <td>Control</td>\n",
       "      <td>Memantine</td>\n",
       "      <td>C/S</td>\n",
       "      <td>c-CS-m</td>\n",
       "    </tr>\n",
       "  </tbody>\n",
       "</table>\n",
       "<p>5 rows × 81 columns</p>\n",
       "</div>"
      ],
      "text/plain": [
       "         DYRK1A_N   ITSN1_N    BDNF_N     NR1_N    NR2A_N    pAKT_N   pBRAF_N  \\\n",
       "MouseID                                                                         \n",
       "309_1    0.503644  0.747193  0.430175  2.816329  5.990152  0.218830  0.177565   \n",
       "309_2    0.514617  0.689064  0.411770  2.789514  5.685038  0.211636  0.172817   \n",
       "309_3    0.509183  0.730247  0.418309  2.687201  5.622059  0.209011  0.175722   \n",
       "309_4    0.442107  0.617076  0.358626  2.466947  4.979503  0.222886  0.176463   \n",
       "309_5    0.434940  0.617430  0.358802  2.365785  4.718679  0.213106  0.173627   \n",
       "\n",
       "         pCAMKII_N   pCREB_N    pELK_N  ...   pCFOS_N     SYP_N  H3AcK18_N  \\\n",
       "MouseID                                 ...                                  \n",
       "309_1     2.373744  0.232224  1.750936  ...  0.108336  0.427099   0.114783   \n",
       "309_2     2.292150  0.226972  1.596377  ...  0.104315  0.441581   0.111974   \n",
       "309_3     2.283337  0.230247  1.561316  ...  0.106219  0.435777   0.111883   \n",
       "309_4     2.152301  0.207004  1.595086  ...  0.111262  0.391691   0.130405   \n",
       "309_5     2.134014  0.192158  1.504230  ...  0.110694  0.434154   0.118481   \n",
       "\n",
       "           EGR1_N  H3MeK4_N    CaNA_N  Genotype  Treatment  Behavior   class  \n",
       "MouseID                                                                       \n",
       "309_1    0.131790  0.128186  1.675652   Control  Memantine       C/S  c-CS-m  \n",
       "309_2    0.135103  0.131119  1.743610   Control  Memantine       C/S  c-CS-m  \n",
       "309_3    0.133362  0.127431  1.926427   Control  Memantine       C/S  c-CS-m  \n",
       "309_4    0.147444  0.146901  1.700563   Control  Memantine       C/S  c-CS-m  \n",
       "309_5    0.140314  0.148380  1.839730   Control  Memantine       C/S  c-CS-m  \n",
       "\n",
       "[5 rows x 81 columns]"
      ]
     },
     "execution_count": 89,
     "metadata": {},
     "output_type": "execute_result"
    }
   ],
   "source": [
    "data.head()"
   ]
  },
  {
   "cell_type": "markdown",
   "metadata": {
    "slideshow": {
     "slide_type": "fragment"
    }
   },
   "source": [
    "TODO: 4. Split your data into X and y\n",
    "\n",
    "*tip* you can assign data to X and drop unnecessary columns via drop() method"
   ]
  },
  {
   "cell_type": "code",
   "execution_count": 90,
   "metadata": {},
   "outputs": [],
   "source": [
    "X = data.iloc[:, :77]\n",
    "# X = data.loc[:, :'CaNA_N']\n",
    "y = data['Genotype']"
   ]
  },
  {
   "cell_type": "code",
   "execution_count": 91,
   "metadata": {},
   "outputs": [
    {
     "data": {
      "text/html": [
       "<div>\n",
       "<style scoped>\n",
       "    .dataframe tbody tr th:only-of-type {\n",
       "        vertical-align: middle;\n",
       "    }\n",
       "\n",
       "    .dataframe tbody tr th {\n",
       "        vertical-align: top;\n",
       "    }\n",
       "\n",
       "    .dataframe thead th {\n",
       "        text-align: right;\n",
       "    }\n",
       "</style>\n",
       "<table border=\"1\" class=\"dataframe\">\n",
       "  <thead>\n",
       "    <tr style=\"text-align: right;\">\n",
       "      <th></th>\n",
       "      <th>DYRK1A_N</th>\n",
       "      <th>ITSN1_N</th>\n",
       "      <th>BDNF_N</th>\n",
       "      <th>NR1_N</th>\n",
       "      <th>NR2A_N</th>\n",
       "      <th>pAKT_N</th>\n",
       "      <th>pBRAF_N</th>\n",
       "      <th>pCAMKII_N</th>\n",
       "      <th>pCREB_N</th>\n",
       "      <th>pELK_N</th>\n",
       "      <th>...</th>\n",
       "      <th>SHH_N</th>\n",
       "      <th>BAD_N</th>\n",
       "      <th>BCL2_N</th>\n",
       "      <th>pS6_N</th>\n",
       "      <th>pCFOS_N</th>\n",
       "      <th>SYP_N</th>\n",
       "      <th>H3AcK18_N</th>\n",
       "      <th>EGR1_N</th>\n",
       "      <th>H3MeK4_N</th>\n",
       "      <th>CaNA_N</th>\n",
       "    </tr>\n",
       "    <tr>\n",
       "      <th>MouseID</th>\n",
       "      <th></th>\n",
       "      <th></th>\n",
       "      <th></th>\n",
       "      <th></th>\n",
       "      <th></th>\n",
       "      <th></th>\n",
       "      <th></th>\n",
       "      <th></th>\n",
       "      <th></th>\n",
       "      <th></th>\n",
       "      <th></th>\n",
       "      <th></th>\n",
       "      <th></th>\n",
       "      <th></th>\n",
       "      <th></th>\n",
       "      <th></th>\n",
       "      <th></th>\n",
       "      <th></th>\n",
       "      <th></th>\n",
       "      <th></th>\n",
       "      <th></th>\n",
       "    </tr>\n",
       "  </thead>\n",
       "  <tbody>\n",
       "    <tr>\n",
       "      <td>309_1</td>\n",
       "      <td>0.503644</td>\n",
       "      <td>0.747193</td>\n",
       "      <td>0.430175</td>\n",
       "      <td>2.816329</td>\n",
       "      <td>5.990152</td>\n",
       "      <td>0.218830</td>\n",
       "      <td>0.177565</td>\n",
       "      <td>2.373744</td>\n",
       "      <td>0.232224</td>\n",
       "      <td>1.750936</td>\n",
       "      <td>...</td>\n",
       "      <td>0.188852</td>\n",
       "      <td>0.122652</td>\n",
       "      <td>NaN</td>\n",
       "      <td>0.106305</td>\n",
       "      <td>0.108336</td>\n",
       "      <td>0.427099</td>\n",
       "      <td>0.114783</td>\n",
       "      <td>0.131790</td>\n",
       "      <td>0.128186</td>\n",
       "      <td>1.675652</td>\n",
       "    </tr>\n",
       "    <tr>\n",
       "      <td>309_2</td>\n",
       "      <td>0.514617</td>\n",
       "      <td>0.689064</td>\n",
       "      <td>0.411770</td>\n",
       "      <td>2.789514</td>\n",
       "      <td>5.685038</td>\n",
       "      <td>0.211636</td>\n",
       "      <td>0.172817</td>\n",
       "      <td>2.292150</td>\n",
       "      <td>0.226972</td>\n",
       "      <td>1.596377</td>\n",
       "      <td>...</td>\n",
       "      <td>0.200404</td>\n",
       "      <td>0.116682</td>\n",
       "      <td>NaN</td>\n",
       "      <td>0.106592</td>\n",
       "      <td>0.104315</td>\n",
       "      <td>0.441581</td>\n",
       "      <td>0.111974</td>\n",
       "      <td>0.135103</td>\n",
       "      <td>0.131119</td>\n",
       "      <td>1.743610</td>\n",
       "    </tr>\n",
       "    <tr>\n",
       "      <td>309_3</td>\n",
       "      <td>0.509183</td>\n",
       "      <td>0.730247</td>\n",
       "      <td>0.418309</td>\n",
       "      <td>2.687201</td>\n",
       "      <td>5.622059</td>\n",
       "      <td>0.209011</td>\n",
       "      <td>0.175722</td>\n",
       "      <td>2.283337</td>\n",
       "      <td>0.230247</td>\n",
       "      <td>1.561316</td>\n",
       "      <td>...</td>\n",
       "      <td>0.193685</td>\n",
       "      <td>0.118508</td>\n",
       "      <td>NaN</td>\n",
       "      <td>0.108303</td>\n",
       "      <td>0.106219</td>\n",
       "      <td>0.435777</td>\n",
       "      <td>0.111883</td>\n",
       "      <td>0.133362</td>\n",
       "      <td>0.127431</td>\n",
       "      <td>1.926427</td>\n",
       "    </tr>\n",
       "    <tr>\n",
       "      <td>309_4</td>\n",
       "      <td>0.442107</td>\n",
       "      <td>0.617076</td>\n",
       "      <td>0.358626</td>\n",
       "      <td>2.466947</td>\n",
       "      <td>4.979503</td>\n",
       "      <td>0.222886</td>\n",
       "      <td>0.176463</td>\n",
       "      <td>2.152301</td>\n",
       "      <td>0.207004</td>\n",
       "      <td>1.595086</td>\n",
       "      <td>...</td>\n",
       "      <td>0.192112</td>\n",
       "      <td>0.132781</td>\n",
       "      <td>NaN</td>\n",
       "      <td>0.103184</td>\n",
       "      <td>0.111262</td>\n",
       "      <td>0.391691</td>\n",
       "      <td>0.130405</td>\n",
       "      <td>0.147444</td>\n",
       "      <td>0.146901</td>\n",
       "      <td>1.700563</td>\n",
       "    </tr>\n",
       "    <tr>\n",
       "      <td>309_5</td>\n",
       "      <td>0.434940</td>\n",
       "      <td>0.617430</td>\n",
       "      <td>0.358802</td>\n",
       "      <td>2.365785</td>\n",
       "      <td>4.718679</td>\n",
       "      <td>0.213106</td>\n",
       "      <td>0.173627</td>\n",
       "      <td>2.134014</td>\n",
       "      <td>0.192158</td>\n",
       "      <td>1.504230</td>\n",
       "      <td>...</td>\n",
       "      <td>0.205604</td>\n",
       "      <td>0.129954</td>\n",
       "      <td>NaN</td>\n",
       "      <td>0.104784</td>\n",
       "      <td>0.110694</td>\n",
       "      <td>0.434154</td>\n",
       "      <td>0.118481</td>\n",
       "      <td>0.140314</td>\n",
       "      <td>0.148380</td>\n",
       "      <td>1.839730</td>\n",
       "    </tr>\n",
       "  </tbody>\n",
       "</table>\n",
       "<p>5 rows × 77 columns</p>\n",
       "</div>"
      ],
      "text/plain": [
       "         DYRK1A_N   ITSN1_N    BDNF_N     NR1_N    NR2A_N    pAKT_N   pBRAF_N  \\\n",
       "MouseID                                                                         \n",
       "309_1    0.503644  0.747193  0.430175  2.816329  5.990152  0.218830  0.177565   \n",
       "309_2    0.514617  0.689064  0.411770  2.789514  5.685038  0.211636  0.172817   \n",
       "309_3    0.509183  0.730247  0.418309  2.687201  5.622059  0.209011  0.175722   \n",
       "309_4    0.442107  0.617076  0.358626  2.466947  4.979503  0.222886  0.176463   \n",
       "309_5    0.434940  0.617430  0.358802  2.365785  4.718679  0.213106  0.173627   \n",
       "\n",
       "         pCAMKII_N   pCREB_N    pELK_N  ...     SHH_N     BAD_N  BCL2_N  \\\n",
       "MouseID                                 ...                               \n",
       "309_1     2.373744  0.232224  1.750936  ...  0.188852  0.122652     NaN   \n",
       "309_2     2.292150  0.226972  1.596377  ...  0.200404  0.116682     NaN   \n",
       "309_3     2.283337  0.230247  1.561316  ...  0.193685  0.118508     NaN   \n",
       "309_4     2.152301  0.207004  1.595086  ...  0.192112  0.132781     NaN   \n",
       "309_5     2.134014  0.192158  1.504230  ...  0.205604  0.129954     NaN   \n",
       "\n",
       "            pS6_N   pCFOS_N     SYP_N  H3AcK18_N    EGR1_N  H3MeK4_N    CaNA_N  \n",
       "MouseID                                                                         \n",
       "309_1    0.106305  0.108336  0.427099   0.114783  0.131790  0.128186  1.675652  \n",
       "309_2    0.106592  0.104315  0.441581   0.111974  0.135103  0.131119  1.743610  \n",
       "309_3    0.108303  0.106219  0.435777   0.111883  0.133362  0.127431  1.926427  \n",
       "309_4    0.103184  0.111262  0.391691   0.130405  0.147444  0.146901  1.700563  \n",
       "309_5    0.104784  0.110694  0.434154   0.118481  0.140314  0.148380  1.839730  \n",
       "\n",
       "[5 rows x 77 columns]"
      ]
     },
     "execution_count": 91,
     "metadata": {},
     "output_type": "execute_result"
    }
   ],
   "source": [
    "X.head()"
   ]
  },
  {
   "cell_type": "markdown",
   "metadata": {
    "slideshow": {
     "slide_type": "subslide"
    }
   },
   "source": [
    "TODO: 5. Decode Genotype: Control as 0, Ts65Dn as 1\n",
    "    \n",
    "*tip* example from the titanic dataset: sex decoding\n",
    "\n",
    "titanic.sex = titanic.sex.map({\"male\":0, \"female\":1})"
   ]
  },
  {
   "cell_type": "code",
   "execution_count": 92,
   "metadata": {},
   "outputs": [],
   "source": [
    "y = y.map({\"Control\": 0, 'Ts65Dn': 1})"
   ]
  },
  {
   "cell_type": "code",
   "execution_count": 93,
   "metadata": {},
   "outputs": [
    {
     "data": {
      "text/plain": [
       "MouseID\n",
       "309_1    0\n",
       "309_2    0\n",
       "309_3    0\n",
       "309_4    0\n",
       "309_5    0\n",
       "Name: Genotype, dtype: int64"
      ]
     },
     "execution_count": 93,
     "metadata": {},
     "output_type": "execute_result"
    }
   ],
   "source": [
    "y.head()"
   ]
  },
  {
   "cell_type": "markdown",
   "metadata": {
    "slideshow": {
     "slide_type": "subslide"
    }
   },
   "source": [
    "TODO: 6. Check NA values via count() and then drop columns with NaNs via dropna()\n",
    "\n",
    "*tip* check that you specify the correct axes to drop columns (and not rows)"
   ]
  },
  {
   "cell_type": "code",
   "execution_count": 95,
   "metadata": {
    "slideshow": {
     "slide_type": "fragment"
    }
   },
   "outputs": [
    {
     "data": {
      "text/plain": [
       "DYRK1A_N     1077\n",
       "ITSN1_N      1077\n",
       "BDNF_N       1077\n",
       "NR1_N        1077\n",
       "NR2A_N       1077\n",
       "             ... \n",
       "SYP_N        1080\n",
       "H3AcK18_N     900\n",
       "EGR1_N        870\n",
       "H3MeK4_N      810\n",
       "CaNA_N       1080\n",
       "Length: 77, dtype: int64"
      ]
     },
     "execution_count": 95,
     "metadata": {},
     "output_type": "execute_result"
    }
   ],
   "source": [
    "X.count()"
   ]
  },
  {
   "cell_type": "code",
   "execution_count": 96,
   "metadata": {},
   "outputs": [
    {
     "data": {
      "text/plain": [
       "(1080, 28)"
      ]
     },
     "execution_count": 96,
     "metadata": {},
     "output_type": "execute_result"
    }
   ],
   "source": [
    "X.dropna(axis=1, inplace=True)\n",
    "\n",
    "X.shape"
   ]
  },
  {
   "cell_type": "markdown",
   "metadata": {
    "slideshow": {
     "slide_type": "slide"
    }
   },
   "source": [
    "# Cross-validation"
   ]
  },
  {
   "cell_type": "code",
   "execution_count": 97,
   "metadata": {
    "slideshow": {
     "slide_type": "fragment"
    }
   },
   "outputs": [],
   "source": [
    "import numpy as np\n",
    "from sklearn.linear_model import LogisticRegression, LogisticRegressionCV\n",
    "# LogisticRegressionCV automatically select regularization parameter C"
   ]
  },
  {
   "cell_type": "code",
   "execution_count": 98,
   "metadata": {
    "slideshow": {
     "slide_type": "subslide"
    }
   },
   "outputs": [
    {
     "name": "stdout",
     "output_type": "stream",
     "text": [
      "Accuracy when trained on all dataset 0.7240740740740741\n"
     ]
    }
   ],
   "source": [
    "clf = LogisticRegression()\n",
    "clf.fit(X, y)\n",
    "print('Accuracy when trained on all dataset', accuracy_score(clf.predict(X), y))"
   ]
  },
  {
   "cell_type": "code",
   "execution_count": 99,
   "metadata": {
    "slideshow": {
     "slide_type": "subslide"
    }
   },
   "outputs": [],
   "source": [
    "from sklearn.model_selection import train_test_split"
   ]
  },
  {
   "cell_type": "code",
   "execution_count": 100,
   "metadata": {
    "slideshow": {
     "slide_type": "fragment"
    }
   },
   "outputs": [
    {
     "name": "stdout",
     "output_type": "stream",
     "text": [
      "Accuracy on a test subset 0.7037037037037037\n"
     ]
    }
   ],
   "source": [
    "X_train, X_test, y_train, y_test = train_test_split(X, y, test_size = 0.1, stratify = None, random_state = 0)\n",
    "\n",
    "# TODO: 7. Fit on train set & estimate accuracy on the test set\n",
    "clf = LogisticRegression()\n",
    "clf.fit(X_train, y_train)\n",
    "y_pred = clf.predict(X_test)\n",
    "print('Accuracy on a test subset', accuracy_score(y_pred, y_test))\n",
    "# error is a little bit higher"
   ]
  },
  {
   "cell_type": "markdown",
   "metadata": {
    "slideshow": {
     "slide_type": "slide"
    }
   },
   "source": [
    "## Kfolds CV\n",
    "\n",
    "Example of 5-fold\n",
    "\n",
    "<div style=\"width:60%; text-align:center\">\n",
    "<img src=\"http://vinhkhuc.github.io/assets/2015-03-01-cross-validation/5-fold-cv.png\">\n",
    "</div>"
   ]
  },
  {
   "cell_type": "code",
   "execution_count": 101,
   "metadata": {
    "slideshow": {
     "slide_type": "subslide"
    }
   },
   "outputs": [],
   "source": [
    "from sklearn.model_selection import cross_val_score, KFold\n",
    "# KFold split your data\n",
    "# cross_val_score automatically builds K models and then estimates errors on the corresponding test sets"
   ]
  },
  {
   "cell_type": "code",
   "execution_count": 103,
   "metadata": {
    "slideshow": {
     "slide_type": "subslide"
    }
   },
   "outputs": [
    {
     "name": "stdout",
     "output_type": "stream",
     "text": [
      "KFold score: 0.414 ± 0.115\n"
     ]
    }
   ],
   "source": [
    "kfold = KFold(n_splits=5) # 5-fold CV\n",
    "cv = kfold.split(X, y) # show data & make the split\n",
    "\n",
    "clf = LogisticRegression()\n",
    "scores = cross_val_score(clf, X, y, scoring='accuracy', cv=cv)\n",
    "print('KFold score: {0:.3f} ± {1:.3f}'.format(scores.mean(), scores.std()) )"
   ]
  },
  {
   "cell_type": "code",
   "execution_count": 102,
   "metadata": {},
   "outputs": [
    {
     "data": {
      "text/plain": [
       "array([0.50462963, 0.39814815, 0.56944444, 0.67592593, 0.63425926])"
      ]
     },
     "execution_count": 102,
     "metadata": {},
     "output_type": "execute_result"
    }
   ],
   "source": [
    "# scores variable contains test errors for 5 models fitted within cross_val_score-validation \n",
    "scores"
   ]
  },
  {
   "cell_type": "markdown",
   "metadata": {
    "slideshow": {
     "slide_type": "subslide"
    }
   },
   "source": [
    "#### Wow! Significant drop in accuracy and rise in std across folds.  The reason is that the labels are ordered"
   ]
  },
  {
   "cell_type": "code",
   "execution_count": 104,
   "metadata": {},
   "outputs": [
    {
     "data": {
      "text/plain": [
       "MouseID\n",
       "309_1       0\n",
       "309_2       0\n",
       "309_3       0\n",
       "309_4       0\n",
       "309_5       0\n",
       "           ..\n",
       "J3295_11    1\n",
       "J3295_12    1\n",
       "J3295_13    1\n",
       "J3295_14    1\n",
       "J3295_15    1\n",
       "Name: Genotype, Length: 1080, dtype: int64"
      ]
     },
     "execution_count": 104,
     "metadata": {},
     "output_type": "execute_result"
    }
   ],
   "source": [
    "# TODO: 7. Check the order of the labels\n",
    "y"
   ]
  },
  {
   "cell_type": "code",
   "execution_count": 105,
   "metadata": {
    "slideshow": {
     "slide_type": "fragment"
    }
   },
   "outputs": [
    {
     "name": "stdout",
     "output_type": "stream",
     "text": [
      "KFold score: 0.708 ± 0.030\n"
     ]
    }
   ],
   "source": [
    "# TODO: 8. Try KFold with shuffle=True \n",
    "kfold = KFold(n_splits=5, shuffle=True) # 5-fold CV\n",
    "cv = kfold.split(X, y) # show data & make the split\n",
    "\n",
    "clf = LogisticRegression()\n",
    "scores = cross_val_score(clf, X, y, scoring='accuracy', cv=cv)\n",
    "print('KFold score: {0:.3f} ± {1:.3f}'.format(scores.mean(), scores.std()) )"
   ]
  },
  {
   "cell_type": "markdown",
   "metadata": {},
   "source": [
    "#### So, we restore our good accuracy "
   ]
  },
  {
   "cell_type": "markdown",
   "metadata": {
    "slideshow": {
     "slide_type": "slide"
    }
   },
   "source": [
    "## Label (Group) split"
   ]
  },
  {
   "cell_type": "markdown",
   "metadata": {
    "slideshow": {
     "slide_type": "subslide"
    }
   },
   "source": [
    "#### We have 15 measurments per mouse in the dataset, and our validation scheme doesn't take this fact into account. Let's fix that using group split"
   ]
  },
  {
   "cell_type": "code",
   "execution_count": 56,
   "metadata": {
    "scrolled": true
   },
   "outputs": [
    {
     "data": {
      "text/html": [
       "<div>\n",
       "<style scoped>\n",
       "    .dataframe tbody tr th:only-of-type {\n",
       "        vertical-align: middle;\n",
       "    }\n",
       "\n",
       "    .dataframe tbody tr th {\n",
       "        vertical-align: top;\n",
       "    }\n",
       "\n",
       "    .dataframe thead th {\n",
       "        text-align: right;\n",
       "    }\n",
       "</style>\n",
       "<table border=\"1\" class=\"dataframe\">\n",
       "  <thead>\n",
       "    <tr style=\"text-align: right;\">\n",
       "      <th></th>\n",
       "      <th>NUMB_N</th>\n",
       "      <th>P70S6_N</th>\n",
       "      <th>pGSK3B_N</th>\n",
       "      <th>pPKCG_N</th>\n",
       "      <th>CDK5_N</th>\n",
       "      <th>S6_N</th>\n",
       "      <th>ADARB1_N</th>\n",
       "      <th>AcetylH3K9_N</th>\n",
       "      <th>RRP1_N</th>\n",
       "      <th>BAX_N</th>\n",
       "      <th>...</th>\n",
       "      <th>P3525_N</th>\n",
       "      <th>pCASP9_N</th>\n",
       "      <th>PSD95_N</th>\n",
       "      <th>SNCA_N</th>\n",
       "      <th>Ubiquitin_N</th>\n",
       "      <th>pGSK3B_Tyr216_N</th>\n",
       "      <th>SHH_N</th>\n",
       "      <th>pS6_N</th>\n",
       "      <th>SYP_N</th>\n",
       "      <th>CaNA_N</th>\n",
       "    </tr>\n",
       "    <tr>\n",
       "      <th>MouseID</th>\n",
       "      <th></th>\n",
       "      <th></th>\n",
       "      <th></th>\n",
       "      <th></th>\n",
       "      <th></th>\n",
       "      <th></th>\n",
       "      <th></th>\n",
       "      <th></th>\n",
       "      <th></th>\n",
       "      <th></th>\n",
       "      <th></th>\n",
       "      <th></th>\n",
       "      <th></th>\n",
       "      <th></th>\n",
       "      <th></th>\n",
       "      <th></th>\n",
       "      <th></th>\n",
       "      <th></th>\n",
       "      <th></th>\n",
       "      <th></th>\n",
       "      <th></th>\n",
       "    </tr>\n",
       "  </thead>\n",
       "  <tbody>\n",
       "    <tr>\n",
       "      <td>309_1</td>\n",
       "      <td>0.182150</td>\n",
       "      <td>0.842725</td>\n",
       "      <td>0.192608</td>\n",
       "      <td>1.443091</td>\n",
       "      <td>0.294700</td>\n",
       "      <td>0.354605</td>\n",
       "      <td>1.339070</td>\n",
       "      <td>0.170119</td>\n",
       "      <td>0.159102</td>\n",
       "      <td>0.188852</td>\n",
       "      <td>...</td>\n",
       "      <td>0.247538</td>\n",
       "      <td>1.603310</td>\n",
       "      <td>2.014875</td>\n",
       "      <td>0.108234</td>\n",
       "      <td>1.044979</td>\n",
       "      <td>0.831557</td>\n",
       "      <td>0.188852</td>\n",
       "      <td>0.106305</td>\n",
       "      <td>0.427099</td>\n",
       "      <td>1.675652</td>\n",
       "    </tr>\n",
       "    <tr>\n",
       "      <td>309_2</td>\n",
       "      <td>0.182086</td>\n",
       "      <td>0.847615</td>\n",
       "      <td>0.194815</td>\n",
       "      <td>1.439460</td>\n",
       "      <td>0.294060</td>\n",
       "      <td>0.354548</td>\n",
       "      <td>1.306323</td>\n",
       "      <td>0.171427</td>\n",
       "      <td>0.158129</td>\n",
       "      <td>0.184570</td>\n",
       "      <td>...</td>\n",
       "      <td>0.257632</td>\n",
       "      <td>1.671738</td>\n",
       "      <td>2.004605</td>\n",
       "      <td>0.109749</td>\n",
       "      <td>1.009883</td>\n",
       "      <td>0.849270</td>\n",
       "      <td>0.200404</td>\n",
       "      <td>0.106592</td>\n",
       "      <td>0.441581</td>\n",
       "      <td>1.743610</td>\n",
       "    </tr>\n",
       "    <tr>\n",
       "      <td>309_3</td>\n",
       "      <td>0.184388</td>\n",
       "      <td>0.856166</td>\n",
       "      <td>0.200737</td>\n",
       "      <td>1.524364</td>\n",
       "      <td>0.301881</td>\n",
       "      <td>0.386087</td>\n",
       "      <td>1.279600</td>\n",
       "      <td>0.185456</td>\n",
       "      <td>0.148696</td>\n",
       "      <td>0.190532</td>\n",
       "      <td>...</td>\n",
       "      <td>0.255343</td>\n",
       "      <td>1.663550</td>\n",
       "      <td>2.016831</td>\n",
       "      <td>0.108196</td>\n",
       "      <td>0.996848</td>\n",
       "      <td>0.846709</td>\n",
       "      <td>0.193685</td>\n",
       "      <td>0.108303</td>\n",
       "      <td>0.435777</td>\n",
       "      <td>1.926427</td>\n",
       "    </tr>\n",
       "    <tr>\n",
       "      <td>309_4</td>\n",
       "      <td>0.161768</td>\n",
       "      <td>0.760234</td>\n",
       "      <td>0.184169</td>\n",
       "      <td>1.612382</td>\n",
       "      <td>0.296382</td>\n",
       "      <td>0.290680</td>\n",
       "      <td>1.198765</td>\n",
       "      <td>0.159799</td>\n",
       "      <td>0.166112</td>\n",
       "      <td>0.185323</td>\n",
       "      <td>...</td>\n",
       "      <td>0.251103</td>\n",
       "      <td>1.484624</td>\n",
       "      <td>1.957233</td>\n",
       "      <td>0.119883</td>\n",
       "      <td>0.990225</td>\n",
       "      <td>0.833277</td>\n",
       "      <td>0.192112</td>\n",
       "      <td>0.103184</td>\n",
       "      <td>0.391691</td>\n",
       "      <td>1.700563</td>\n",
       "    </tr>\n",
       "    <tr>\n",
       "      <td>309_5</td>\n",
       "      <td>0.160200</td>\n",
       "      <td>0.768113</td>\n",
       "      <td>0.185718</td>\n",
       "      <td>1.645807</td>\n",
       "      <td>0.296829</td>\n",
       "      <td>0.309345</td>\n",
       "      <td>1.206995</td>\n",
       "      <td>0.164650</td>\n",
       "      <td>0.160687</td>\n",
       "      <td>0.188221</td>\n",
       "      <td>...</td>\n",
       "      <td>0.251773</td>\n",
       "      <td>1.534835</td>\n",
       "      <td>2.009109</td>\n",
       "      <td>0.119524</td>\n",
       "      <td>0.997775</td>\n",
       "      <td>0.878668</td>\n",
       "      <td>0.205604</td>\n",
       "      <td>0.104784</td>\n",
       "      <td>0.434154</td>\n",
       "      <td>1.839730</td>\n",
       "    </tr>\n",
       "    <tr>\n",
       "      <td>309_6</td>\n",
       "      <td>0.162330</td>\n",
       "      <td>0.779695</td>\n",
       "      <td>0.186793</td>\n",
       "      <td>1.634615</td>\n",
       "      <td>0.288037</td>\n",
       "      <td>0.332367</td>\n",
       "      <td>1.123445</td>\n",
       "      <td>0.175693</td>\n",
       "      <td>0.150594</td>\n",
       "      <td>0.183824</td>\n",
       "      <td>...</td>\n",
       "      <td>0.244485</td>\n",
       "      <td>1.507777</td>\n",
       "      <td>2.003535</td>\n",
       "      <td>0.120687</td>\n",
       "      <td>0.920178</td>\n",
       "      <td>0.843679</td>\n",
       "      <td>0.190469</td>\n",
       "      <td>0.106476</td>\n",
       "      <td>0.439833</td>\n",
       "      <td>1.816389</td>\n",
       "    </tr>\n",
       "    <tr>\n",
       "      <td>309_7</td>\n",
       "      <td>0.145566</td>\n",
       "      <td>0.702248</td>\n",
       "      <td>0.177033</td>\n",
       "      <td>1.773846</td>\n",
       "      <td>0.292195</td>\n",
       "      <td>0.266857</td>\n",
       "      <td>1.032284</td>\n",
       "      <td>0.147855</td>\n",
       "      <td>0.149816</td>\n",
       "      <td>0.181610</td>\n",
       "      <td>...</td>\n",
       "      <td>0.238006</td>\n",
       "      <td>1.338782</td>\n",
       "      <td>1.861708</td>\n",
       "      <td>0.117041</td>\n",
       "      <td>1.028770</td>\n",
       "      <td>0.798284</td>\n",
       "      <td>0.181610</td>\n",
       "      <td>0.097834</td>\n",
       "      <td>0.406293</td>\n",
       "      <td>1.528484</td>\n",
       "    </tr>\n",
       "    <tr>\n",
       "      <td>309_8</td>\n",
       "      <td>0.147848</td>\n",
       "      <td>0.681941</td>\n",
       "      <td>0.174599</td>\n",
       "      <td>1.795781</td>\n",
       "      <td>0.288523</td>\n",
       "      <td>0.288608</td>\n",
       "      <td>1.152068</td>\n",
       "      <td>0.152405</td>\n",
       "      <td>0.154515</td>\n",
       "      <td>0.182869</td>\n",
       "      <td>...</td>\n",
       "      <td>0.241435</td>\n",
       "      <td>1.386076</td>\n",
       "      <td>1.969451</td>\n",
       "      <td>0.116878</td>\n",
       "      <td>0.943544</td>\n",
       "      <td>0.843966</td>\n",
       "      <td>0.191561</td>\n",
       "      <td>0.099494</td>\n",
       "      <td>0.382532</td>\n",
       "      <td>1.652658</td>\n",
       "    </tr>\n",
       "    <tr>\n",
       "      <td>309_9</td>\n",
       "      <td>0.150121</td>\n",
       "      <td>0.710808</td>\n",
       "      <td>0.167472</td>\n",
       "      <td>1.805249</td>\n",
       "      <td>0.294458</td>\n",
       "      <td>0.294113</td>\n",
       "      <td>1.107907</td>\n",
       "      <td>0.158840</td>\n",
       "      <td>0.148653</td>\n",
       "      <td>0.178522</td>\n",
       "      <td>...</td>\n",
       "      <td>0.236015</td>\n",
       "      <td>1.404178</td>\n",
       "      <td>1.958736</td>\n",
       "      <td>0.113864</td>\n",
       "      <td>0.946910</td>\n",
       "      <td>0.832182</td>\n",
       "      <td>0.186378</td>\n",
       "      <td>0.105145</td>\n",
       "      <td>0.435687</td>\n",
       "      <td>1.834599</td>\n",
       "    </tr>\n",
       "    <tr>\n",
       "      <td>309_10</td>\n",
       "      <td>0.140063</td>\n",
       "      <td>0.637927</td>\n",
       "      <td>0.175585</td>\n",
       "      <td>1.926596</td>\n",
       "      <td>0.301821</td>\n",
       "      <td>0.249775</td>\n",
       "      <td>0.930980</td>\n",
       "      <td>0.145459</td>\n",
       "      <td>0.166254</td>\n",
       "      <td>0.171088</td>\n",
       "      <td>...</td>\n",
       "      <td>0.244829</td>\n",
       "      <td>1.288669</td>\n",
       "      <td>1.818907</td>\n",
       "      <td>0.139951</td>\n",
       "      <td>0.970324</td>\n",
       "      <td>0.803395</td>\n",
       "      <td>0.189523</td>\n",
       "      <td>0.093300</td>\n",
       "      <td>0.414793</td>\n",
       "      <td>1.516862</td>\n",
       "    </tr>\n",
       "    <tr>\n",
       "      <td>309_11</td>\n",
       "      <td>0.144505</td>\n",
       "      <td>0.662097</td>\n",
       "      <td>0.173292</td>\n",
       "      <td>1.902902</td>\n",
       "      <td>0.298378</td>\n",
       "      <td>0.275417</td>\n",
       "      <td>0.899018</td>\n",
       "      <td>0.144391</td>\n",
       "      <td>0.169979</td>\n",
       "      <td>0.183802</td>\n",
       "      <td>...</td>\n",
       "      <td>0.250628</td>\n",
       "      <td>1.326708</td>\n",
       "      <td>1.861549</td>\n",
       "      <td>0.126799</td>\n",
       "      <td>0.940370</td>\n",
       "      <td>0.842472</td>\n",
       "      <td>0.190770</td>\n",
       "      <td>0.094357</td>\n",
       "      <td>0.385424</td>\n",
       "      <td>1.613548</td>\n",
       "    </tr>\n",
       "    <tr>\n",
       "      <td>309_12</td>\n",
       "      <td>0.142300</td>\n",
       "      <td>0.675065</td>\n",
       "      <td>0.180151</td>\n",
       "      <td>2.001656</td>\n",
       "      <td>0.306837</td>\n",
       "      <td>0.287320</td>\n",
       "      <td>0.967708</td>\n",
       "      <td>0.159451</td>\n",
       "      <td>0.155548</td>\n",
       "      <td>0.174119</td>\n",
       "      <td>...</td>\n",
       "      <td>0.249704</td>\n",
       "      <td>1.303052</td>\n",
       "      <td>1.913532</td>\n",
       "      <td>0.124202</td>\n",
       "      <td>0.911521</td>\n",
       "      <td>0.836172</td>\n",
       "      <td>0.194819</td>\n",
       "      <td>0.098415</td>\n",
       "      <td>0.442394</td>\n",
       "      <td>1.722971</td>\n",
       "    </tr>\n",
       "    <tr>\n",
       "      <td>309_13</td>\n",
       "      <td>0.126796</td>\n",
       "      <td>0.589503</td>\n",
       "      <td>0.167403</td>\n",
       "      <td>1.904006</td>\n",
       "      <td>0.279696</td>\n",
       "      <td>0.244890</td>\n",
       "      <td>0.944061</td>\n",
       "      <td>0.137845</td>\n",
       "      <td>0.176381</td>\n",
       "      <td>0.175276</td>\n",
       "      <td>...</td>\n",
       "      <td>0.277624</td>\n",
       "      <td>1.251934</td>\n",
       "      <td>1.760635</td>\n",
       "      <td>0.160773</td>\n",
       "      <td>0.997238</td>\n",
       "      <td>0.809807</td>\n",
       "      <td>0.203315</td>\n",
       "      <td>0.097652</td>\n",
       "      <td>0.440331</td>\n",
       "      <td>1.426934</td>\n",
       "    </tr>\n",
       "    <tr>\n",
       "      <td>309_14</td>\n",
       "      <td>0.134299</td>\n",
       "      <td>0.611166</td>\n",
       "      <td>0.170862</td>\n",
       "      <td>1.972578</td>\n",
       "      <td>0.283786</td>\n",
       "      <td>0.254957</td>\n",
       "      <td>0.929546</td>\n",
       "      <td>0.136408</td>\n",
       "      <td>0.172971</td>\n",
       "      <td>0.174378</td>\n",
       "      <td>...</td>\n",
       "      <td>0.252004</td>\n",
       "      <td>1.288708</td>\n",
       "      <td>1.792434</td>\n",
       "      <td>0.131346</td>\n",
       "      <td>0.980875</td>\n",
       "      <td>0.832794</td>\n",
       "      <td>0.190128</td>\n",
       "      <td>0.094642</td>\n",
       "      <td>0.422163</td>\n",
       "      <td>1.500070</td>\n",
       "    </tr>\n",
       "    <tr>\n",
       "      <td>309_15</td>\n",
       "      <td>0.122779</td>\n",
       "      <td>0.626361</td>\n",
       "      <td>0.161032</td>\n",
       "      <td>1.959456</td>\n",
       "      <td>0.285817</td>\n",
       "      <td>0.269771</td>\n",
       "      <td>0.903582</td>\n",
       "      <td>0.142693</td>\n",
       "      <td>0.163181</td>\n",
       "      <td>0.173352</td>\n",
       "      <td>...</td>\n",
       "      <td>0.249284</td>\n",
       "      <td>1.251289</td>\n",
       "      <td>1.764756</td>\n",
       "      <td>0.125501</td>\n",
       "      <td>0.942407</td>\n",
       "      <td>0.806160</td>\n",
       "      <td>0.193840</td>\n",
       "      <td>0.099140</td>\n",
       "      <td>0.446562</td>\n",
       "      <td>1.613897</td>\n",
       "    </tr>\n",
       "    <tr>\n",
       "      <td>311_1</td>\n",
       "      <td>0.201228</td>\n",
       "      <td>0.908533</td>\n",
       "      <td>0.191338</td>\n",
       "      <td>0.942728</td>\n",
       "      <td>0.285391</td>\n",
       "      <td>0.294118</td>\n",
       "      <td>1.347123</td>\n",
       "      <td>0.115902</td>\n",
       "      <td>0.226244</td>\n",
       "      <td>0.192243</td>\n",
       "      <td>...</td>\n",
       "      <td>0.233484</td>\n",
       "      <td>1.127408</td>\n",
       "      <td>1.683323</td>\n",
       "      <td>0.137880</td>\n",
       "      <td>1.177893</td>\n",
       "      <td>0.674984</td>\n",
       "      <td>0.178474</td>\n",
       "      <td>0.138655</td>\n",
       "      <td>0.440142</td>\n",
       "      <td>1.297220</td>\n",
       "    </tr>\n",
       "    <tr>\n",
       "      <td>311_2</td>\n",
       "      <td>0.187841</td>\n",
       "      <td>0.893488</td>\n",
       "      <td>0.193156</td>\n",
       "      <td>0.963389</td>\n",
       "      <td>0.278738</td>\n",
       "      <td>0.380731</td>\n",
       "      <td>1.150631</td>\n",
       "      <td>0.106645</td>\n",
       "      <td>0.212957</td>\n",
       "      <td>0.191827</td>\n",
       "      <td>...</td>\n",
       "      <td>0.235150</td>\n",
       "      <td>1.137010</td>\n",
       "      <td>1.693821</td>\n",
       "      <td>0.128837</td>\n",
       "      <td>1.115681</td>\n",
       "      <td>0.684252</td>\n",
       "      <td>0.176080</td>\n",
       "      <td>0.111362</td>\n",
       "      <td>0.454352</td>\n",
       "      <td>1.363189</td>\n",
       "    </tr>\n",
       "    <tr>\n",
       "      <td>311_3</td>\n",
       "      <td>0.183455</td>\n",
       "      <td>0.885730</td>\n",
       "      <td>0.196724</td>\n",
       "      <td>0.975494</td>\n",
       "      <td>0.281005</td>\n",
       "      <td>0.400961</td>\n",
       "      <td>1.176618</td>\n",
       "      <td>0.098362</td>\n",
       "      <td>0.183861</td>\n",
       "      <td>0.186705</td>\n",
       "      <td>...</td>\n",
       "      <td>0.237544</td>\n",
       "      <td>1.147983</td>\n",
       "      <td>1.791836</td>\n",
       "      <td>0.136339</td>\n",
       "      <td>1.044476</td>\n",
       "      <td>0.713851</td>\n",
       "      <td>0.174249</td>\n",
       "      <td>0.112036</td>\n",
       "      <td>0.454509</td>\n",
       "      <td>1.404481</td>\n",
       "    </tr>\n",
       "    <tr>\n",
       "      <td>311_4</td>\n",
       "      <td>0.205356</td>\n",
       "      <td>0.890400</td>\n",
       "      <td>0.189935</td>\n",
       "      <td>0.956807</td>\n",
       "      <td>0.291245</td>\n",
       "      <td>0.283038</td>\n",
       "      <td>1.188029</td>\n",
       "      <td>0.117476</td>\n",
       "      <td>0.229896</td>\n",
       "      <td>0.188029</td>\n",
       "      <td>...</td>\n",
       "      <td>0.229647</td>\n",
       "      <td>1.148732</td>\n",
       "      <td>1.636213</td>\n",
       "      <td>0.149975</td>\n",
       "      <td>1.090532</td>\n",
       "      <td>0.679241</td>\n",
       "      <td>0.195656</td>\n",
       "      <td>0.111507</td>\n",
       "      <td>0.458548</td>\n",
       "      <td>1.170038</td>\n",
       "    </tr>\n",
       "    <tr>\n",
       "      <td>311_5</td>\n",
       "      <td>0.168972</td>\n",
       "      <td>0.859442</td>\n",
       "      <td>0.193865</td>\n",
       "      <td>0.978376</td>\n",
       "      <td>0.280446</td>\n",
       "      <td>0.353030</td>\n",
       "      <td>1.092616</td>\n",
       "      <td>0.100159</td>\n",
       "      <td>0.205264</td>\n",
       "      <td>0.182550</td>\n",
       "      <td>...</td>\n",
       "      <td>0.228648</td>\n",
       "      <td>1.102087</td>\n",
       "      <td>1.657028</td>\n",
       "      <td>0.144162</td>\n",
       "      <td>1.020870</td>\n",
       "      <td>0.685693</td>\n",
       "      <td>0.188165</td>\n",
       "      <td>0.100578</td>\n",
       "      <td>0.425027</td>\n",
       "      <td>1.272986</td>\n",
       "    </tr>\n",
       "  </tbody>\n",
       "</table>\n",
       "<p>20 rows × 28 columns</p>\n",
       "</div>"
      ],
      "text/plain": [
       "           NUMB_N   P70S6_N  pGSK3B_N   pPKCG_N    CDK5_N      S6_N  ADARB1_N  \\\n",
       "MouseID                                                                         \n",
       "309_1    0.182150  0.842725  0.192608  1.443091  0.294700  0.354605  1.339070   \n",
       "309_2    0.182086  0.847615  0.194815  1.439460  0.294060  0.354548  1.306323   \n",
       "309_3    0.184388  0.856166  0.200737  1.524364  0.301881  0.386087  1.279600   \n",
       "309_4    0.161768  0.760234  0.184169  1.612382  0.296382  0.290680  1.198765   \n",
       "309_5    0.160200  0.768113  0.185718  1.645807  0.296829  0.309345  1.206995   \n",
       "309_6    0.162330  0.779695  0.186793  1.634615  0.288037  0.332367  1.123445   \n",
       "309_7    0.145566  0.702248  0.177033  1.773846  0.292195  0.266857  1.032284   \n",
       "309_8    0.147848  0.681941  0.174599  1.795781  0.288523  0.288608  1.152068   \n",
       "309_9    0.150121  0.710808  0.167472  1.805249  0.294458  0.294113  1.107907   \n",
       "309_10   0.140063  0.637927  0.175585  1.926596  0.301821  0.249775  0.930980   \n",
       "309_11   0.144505  0.662097  0.173292  1.902902  0.298378  0.275417  0.899018   \n",
       "309_12   0.142300  0.675065  0.180151  2.001656  0.306837  0.287320  0.967708   \n",
       "309_13   0.126796  0.589503  0.167403  1.904006  0.279696  0.244890  0.944061   \n",
       "309_14   0.134299  0.611166  0.170862  1.972578  0.283786  0.254957  0.929546   \n",
       "309_15   0.122779  0.626361  0.161032  1.959456  0.285817  0.269771  0.903582   \n",
       "311_1    0.201228  0.908533  0.191338  0.942728  0.285391  0.294118  1.347123   \n",
       "311_2    0.187841  0.893488  0.193156  0.963389  0.278738  0.380731  1.150631   \n",
       "311_3    0.183455  0.885730  0.196724  0.975494  0.281005  0.400961  1.176618   \n",
       "311_4    0.205356  0.890400  0.189935  0.956807  0.291245  0.283038  1.188029   \n",
       "311_5    0.168972  0.859442  0.193865  0.978376  0.280446  0.353030  1.092616   \n",
       "\n",
       "         AcetylH3K9_N    RRP1_N     BAX_N  ...   P3525_N  pCASP9_N   PSD95_N  \\\n",
       "MouseID                                    ...                                 \n",
       "309_1        0.170119  0.159102  0.188852  ...  0.247538  1.603310  2.014875   \n",
       "309_2        0.171427  0.158129  0.184570  ...  0.257632  1.671738  2.004605   \n",
       "309_3        0.185456  0.148696  0.190532  ...  0.255343  1.663550  2.016831   \n",
       "309_4        0.159799  0.166112  0.185323  ...  0.251103  1.484624  1.957233   \n",
       "309_5        0.164650  0.160687  0.188221  ...  0.251773  1.534835  2.009109   \n",
       "309_6        0.175693  0.150594  0.183824  ...  0.244485  1.507777  2.003535   \n",
       "309_7        0.147855  0.149816  0.181610  ...  0.238006  1.338782  1.861708   \n",
       "309_8        0.152405  0.154515  0.182869  ...  0.241435  1.386076  1.969451   \n",
       "309_9        0.158840  0.148653  0.178522  ...  0.236015  1.404178  1.958736   \n",
       "309_10       0.145459  0.166254  0.171088  ...  0.244829  1.288669  1.818907   \n",
       "309_11       0.144391  0.169979  0.183802  ...  0.250628  1.326708  1.861549   \n",
       "309_12       0.159451  0.155548  0.174119  ...  0.249704  1.303052  1.913532   \n",
       "309_13       0.137845  0.176381  0.175276  ...  0.277624  1.251934  1.760635   \n",
       "309_14       0.136408  0.172971  0.174378  ...  0.252004  1.288708  1.792434   \n",
       "309_15       0.142693  0.163181  0.173352  ...  0.249284  1.251289  1.764756   \n",
       "311_1        0.115902  0.226244  0.192243  ...  0.233484  1.127408  1.683323   \n",
       "311_2        0.106645  0.212957  0.191827  ...  0.235150  1.137010  1.693821   \n",
       "311_3        0.098362  0.183861  0.186705  ...  0.237544  1.147983  1.791836   \n",
       "311_4        0.117476  0.229896  0.188029  ...  0.229647  1.148732  1.636213   \n",
       "311_5        0.100159  0.205264  0.182550  ...  0.228648  1.102087  1.657028   \n",
       "\n",
       "           SNCA_N  Ubiquitin_N  pGSK3B_Tyr216_N     SHH_N     pS6_N     SYP_N  \\\n",
       "MouseID                                                                         \n",
       "309_1    0.108234     1.044979         0.831557  0.188852  0.106305  0.427099   \n",
       "309_2    0.109749     1.009883         0.849270  0.200404  0.106592  0.441581   \n",
       "309_3    0.108196     0.996848         0.846709  0.193685  0.108303  0.435777   \n",
       "309_4    0.119883     0.990225         0.833277  0.192112  0.103184  0.391691   \n",
       "309_5    0.119524     0.997775         0.878668  0.205604  0.104784  0.434154   \n",
       "309_6    0.120687     0.920178         0.843679  0.190469  0.106476  0.439833   \n",
       "309_7    0.117041     1.028770         0.798284  0.181610  0.097834  0.406293   \n",
       "309_8    0.116878     0.943544         0.843966  0.191561  0.099494  0.382532   \n",
       "309_9    0.113864     0.946910         0.832182  0.186378  0.105145  0.435687   \n",
       "309_10   0.139951     0.970324         0.803395  0.189523  0.093300  0.414793   \n",
       "309_11   0.126799     0.940370         0.842472  0.190770  0.094357  0.385424   \n",
       "309_12   0.124202     0.911521         0.836172  0.194819  0.098415  0.442394   \n",
       "309_13   0.160773     0.997238         0.809807  0.203315  0.097652  0.440331   \n",
       "309_14   0.131346     0.980875         0.832794  0.190128  0.094642  0.422163   \n",
       "309_15   0.125501     0.942407         0.806160  0.193840  0.099140  0.446562   \n",
       "311_1    0.137880     1.177893         0.674984  0.178474  0.138655  0.440142   \n",
       "311_2    0.128837     1.115681         0.684252  0.176080  0.111362  0.454352   \n",
       "311_3    0.136339     1.044476         0.713851  0.174249  0.112036  0.454509   \n",
       "311_4    0.149975     1.090532         0.679241  0.195656  0.111507  0.458548   \n",
       "311_5    0.144162     1.020870         0.685693  0.188165  0.100578  0.425027   \n",
       "\n",
       "           CaNA_N  \n",
       "MouseID            \n",
       "309_1    1.675652  \n",
       "309_2    1.743610  \n",
       "309_3    1.926427  \n",
       "309_4    1.700563  \n",
       "309_5    1.839730  \n",
       "309_6    1.816389  \n",
       "309_7    1.528484  \n",
       "309_8    1.652658  \n",
       "309_9    1.834599  \n",
       "309_10   1.516862  \n",
       "309_11   1.613548  \n",
       "309_12   1.722971  \n",
       "309_13   1.426934  \n",
       "309_14   1.500070  \n",
       "309_15   1.613897  \n",
       "311_1    1.297220  \n",
       "311_2    1.363189  \n",
       "311_3    1.404481  \n",
       "311_4    1.170038  \n",
       "311_5    1.272986  \n",
       "\n",
       "[20 rows x 28 columns]"
      ]
     },
     "execution_count": 56,
     "metadata": {},
     "output_type": "execute_result"
    }
   ],
   "source": [
    "# 15 measurments for the same mouse seem to be correlated\n",
    "X.head(20)"
   ]
  },
  {
   "cell_type": "code",
   "execution_count": 106,
   "metadata": {
    "slideshow": {
     "slide_type": "fragment"
    }
   },
   "outputs": [
    {
     "data": {
      "text/plain": [
       "Index(['309', '309', '309', '309', '309', '309', '309', '309', '309', '309',\n",
       "       ...\n",
       "       'J3295', 'J3295', 'J3295', 'J3295', 'J3295', 'J3295', 'J3295', 'J3295',\n",
       "       'J3295', 'J3295'],\n",
       "      dtype='object', name='MouseID', length=1080)"
      ]
     },
     "execution_count": 106,
     "metadata": {},
     "output_type": "execute_result"
    }
   ],
   "source": [
    "# generate a list of mice_ids\n",
    "mice_id = X.index.map(lambda x: x.split('_')[0])\n",
    "mice_id"
   ]
  },
  {
   "cell_type": "code",
   "execution_count": 107,
   "metadata": {
    "slideshow": {
     "slide_type": "subslide"
    }
   },
   "outputs": [],
   "source": [
    "from sklearn.model_selection import GroupKFold\n",
    "# GroupKFold allows to put all points with coincident labels into the single set (training one or validation one) "
   ]
  },
  {
   "cell_type": "code",
   "execution_count": 108,
   "metadata": {
    "slideshow": {
     "slide_type": "fragment"
    }
   },
   "outputs": [
    {
     "name": "stdout",
     "output_type": "stream",
     "text": [
      "LabelKFold score: 0.612 ± 0.070\n"
     ]
    }
   ],
   "source": [
    "group_kfold = GroupKFold(n_splits=5)\n",
    "cv = group_kfold.split(X, y, groups=mice_id) #we explicitly define our groups using mice_id\n",
    "\n",
    "scores = cross_val_score(clf, X, y, scoring='accuracy', cv=cv)\n",
    "print('LabelKFold score: {0:.3f} ± {1:.3f}'.format(scores.mean(), scores.std()) )"
   ]
  },
  {
   "cell_type": "markdown",
   "metadata": {
    "slideshow": {
     "slide_type": "fragment"
    }
   },
   "source": [
    "#### Classification accuracy is dropped. The reason is that there is no leak in our data anymore - we can't use data from \"validation\" mice during training"
   ]
  },
  {
   "cell_type": "code",
   "execution_count": 110,
   "metadata": {},
   "outputs": [],
   "source": [
    "# in addition to cross_val_score we can use cross_val_predit\n",
    "from sklearn.model_selection import cross_val_predict\n",
    "y_pred_cv = cross_val_predict(clf, X, y, cv=5)"
   ]
  },
  {
   "cell_type": "markdown",
   "metadata": {
    "slideshow": {
     "slide_type": "subslide"
    }
   },
   "source": [
    "## Cross-validation: summary\n",
    "- Do not estimate accuracy on the train set, use a separate validation set\n",
    "- If your labels are ordered, don't forget to shuffle your data\n",
    "- If you have any groups in your dataset, you have to use GroupKFold to estimate quality of your model"
   ]
  },
  {
   "cell_type": "markdown",
   "metadata": {
    "slideshow": {
     "slide_type": "slide"
    }
   },
   "source": [
    "# Metrics for classification accuracy"
   ]
  },
  {
   "cell_type": "markdown",
   "metadata": {
    "slideshow": {
     "slide_type": "subslide"
    }
   },
   "source": [
    "## Precision & Recall\n",
    "A wonderfull picture from Wikipedia\n",
    "<div style=\"width:75%; text-align:center\">\n",
    "<img src=\"https://upload.wikimedia.org/wikipedia/commons/thumb/2/26/Precisionrecall.svg/525px-Precisionrecall.svg.png\" width=500px>\n",
    "</div>\n",
    "\n",
    "\n",
    "F1 = 2 \\* (precision \\* recall) / (precision + recall)"
   ]
  },
  {
   "cell_type": "code",
   "execution_count": 111,
   "metadata": {
    "slideshow": {
     "slide_type": "subslide"
    }
   },
   "outputs": [
    {
     "name": "stderr",
     "output_type": "stream",
     "text": [
      "/home/mikhail/.anaconda3/lib/python3.6/site-packages/sklearn/linear_model/logistic.py:947: ConvergenceWarning: lbfgs failed to converge. Increase the number of iterations.\n",
      "  \"of iterations.\", ConvergenceWarning)\n",
      "/home/mikhail/.anaconda3/lib/python3.6/site-packages/sklearn/linear_model/logistic.py:947: ConvergenceWarning: lbfgs failed to converge. Increase the number of iterations.\n",
      "  \"of iterations.\", ConvergenceWarning)\n",
      "/home/mikhail/.anaconda3/lib/python3.6/site-packages/sklearn/linear_model/logistic.py:947: ConvergenceWarning: lbfgs failed to converge. Increase the number of iterations.\n",
      "  \"of iterations.\", ConvergenceWarning)\n",
      "/home/mikhail/.anaconda3/lib/python3.6/site-packages/sklearn/linear_model/logistic.py:947: ConvergenceWarning: lbfgs failed to converge. Increase the number of iterations.\n",
      "  \"of iterations.\", ConvergenceWarning)\n",
      "/home/mikhail/.anaconda3/lib/python3.6/site-packages/sklearn/linear_model/logistic.py:947: ConvergenceWarning: lbfgs failed to converge. Increase the number of iterations.\n",
      "  \"of iterations.\", ConvergenceWarning)\n",
      "/home/mikhail/.anaconda3/lib/python3.6/site-packages/sklearn/linear_model/logistic.py:947: ConvergenceWarning: lbfgs failed to converge. Increase the number of iterations.\n",
      "  \"of iterations.\", ConvergenceWarning)\n",
      "/home/mikhail/.anaconda3/lib/python3.6/site-packages/sklearn/linear_model/logistic.py:947: ConvergenceWarning: lbfgs failed to converge. Increase the number of iterations.\n",
      "  \"of iterations.\", ConvergenceWarning)\n",
      "/home/mikhail/.anaconda3/lib/python3.6/site-packages/sklearn/linear_model/logistic.py:947: ConvergenceWarning: lbfgs failed to converge. Increase the number of iterations.\n",
      "  \"of iterations.\", ConvergenceWarning)\n",
      "/home/mikhail/.anaconda3/lib/python3.6/site-packages/sklearn/linear_model/logistic.py:947: ConvergenceWarning: lbfgs failed to converge. Increase the number of iterations.\n",
      "  \"of iterations.\", ConvergenceWarning)\n",
      "/home/mikhail/.anaconda3/lib/python3.6/site-packages/sklearn/linear_model/logistic.py:947: ConvergenceWarning: lbfgs failed to converge. Increase the number of iterations.\n",
      "  \"of iterations.\", ConvergenceWarning)\n",
      "/home/mikhail/.anaconda3/lib/python3.6/site-packages/sklearn/linear_model/logistic.py:947: ConvergenceWarning: lbfgs failed to converge. Increase the number of iterations.\n",
      "  \"of iterations.\", ConvergenceWarning)\n",
      "/home/mikhail/.anaconda3/lib/python3.6/site-packages/sklearn/linear_model/logistic.py:947: ConvergenceWarning: lbfgs failed to converge. Increase the number of iterations.\n",
      "  \"of iterations.\", ConvergenceWarning)\n",
      "/home/mikhail/.anaconda3/lib/python3.6/site-packages/sklearn/linear_model/logistic.py:947: ConvergenceWarning: lbfgs failed to converge. Increase the number of iterations.\n",
      "  \"of iterations.\", ConvergenceWarning)\n",
      "/home/mikhail/.anaconda3/lib/python3.6/site-packages/sklearn/linear_model/logistic.py:947: ConvergenceWarning: lbfgs failed to converge. Increase the number of iterations.\n",
      "  \"of iterations.\", ConvergenceWarning)\n",
      "/home/mikhail/.anaconda3/lib/python3.6/site-packages/sklearn/linear_model/logistic.py:947: ConvergenceWarning: lbfgs failed to converge. Increase the number of iterations.\n",
      "  \"of iterations.\", ConvergenceWarning)\n",
      "/home/mikhail/.anaconda3/lib/python3.6/site-packages/sklearn/linear_model/logistic.py:947: ConvergenceWarning: lbfgs failed to converge. Increase the number of iterations.\n",
      "  \"of iterations.\", ConvergenceWarning)\n",
      "/home/mikhail/.anaconda3/lib/python3.6/site-packages/sklearn/linear_model/logistic.py:947: ConvergenceWarning: lbfgs failed to converge. Increase the number of iterations.\n",
      "  \"of iterations.\", ConvergenceWarning)\n",
      "/home/mikhail/.anaconda3/lib/python3.6/site-packages/sklearn/linear_model/logistic.py:947: ConvergenceWarning: lbfgs failed to converge. Increase the number of iterations.\n",
      "  \"of iterations.\", ConvergenceWarning)\n",
      "/home/mikhail/.anaconda3/lib/python3.6/site-packages/sklearn/linear_model/logistic.py:947: ConvergenceWarning: lbfgs failed to converge. Increase the number of iterations.\n",
      "  \"of iterations.\", ConvergenceWarning)\n",
      "/home/mikhail/.anaconda3/lib/python3.6/site-packages/sklearn/linear_model/logistic.py:947: ConvergenceWarning: lbfgs failed to converge. Increase the number of iterations.\n",
      "  \"of iterations.\", ConvergenceWarning)\n",
      "/home/mikhail/.anaconda3/lib/python3.6/site-packages/sklearn/linear_model/logistic.py:947: ConvergenceWarning: lbfgs failed to converge. Increase the number of iterations.\n",
      "  \"of iterations.\", ConvergenceWarning)\n",
      "/home/mikhail/.anaconda3/lib/python3.6/site-packages/sklearn/linear_model/logistic.py:947: ConvergenceWarning: lbfgs failed to converge. Increase the number of iterations.\n",
      "  \"of iterations.\", ConvergenceWarning)\n",
      "/home/mikhail/.anaconda3/lib/python3.6/site-packages/sklearn/linear_model/logistic.py:947: ConvergenceWarning: lbfgs failed to converge. Increase the number of iterations.\n",
      "  \"of iterations.\", ConvergenceWarning)\n",
      "/home/mikhail/.anaconda3/lib/python3.6/site-packages/sklearn/linear_model/logistic.py:947: ConvergenceWarning: lbfgs failed to converge. Increase the number of iterations.\n",
      "  \"of iterations.\", ConvergenceWarning)\n",
      "/home/mikhail/.anaconda3/lib/python3.6/site-packages/sklearn/linear_model/logistic.py:947: ConvergenceWarning: lbfgs failed to converge. Increase the number of iterations.\n",
      "  \"of iterations.\", ConvergenceWarning)\n",
      "/home/mikhail/.anaconda3/lib/python3.6/site-packages/sklearn/linear_model/logistic.py:947: ConvergenceWarning: lbfgs failed to converge. Increase the number of iterations.\n",
      "  \"of iterations.\", ConvergenceWarning)\n",
      "/home/mikhail/.anaconda3/lib/python3.6/site-packages/sklearn/linear_model/logistic.py:947: ConvergenceWarning: lbfgs failed to converge. Increase the number of iterations.\n",
      "  \"of iterations.\", ConvergenceWarning)\n",
      "/home/mikhail/.anaconda3/lib/python3.6/site-packages/sklearn/linear_model/logistic.py:947: ConvergenceWarning: lbfgs failed to converge. Increase the number of iterations.\n",
      "  \"of iterations.\", ConvergenceWarning)\n",
      "/home/mikhail/.anaconda3/lib/python3.6/site-packages/sklearn/linear_model/logistic.py:947: ConvergenceWarning: lbfgs failed to converge. Increase the number of iterations.\n",
      "  \"of iterations.\", ConvergenceWarning)\n",
      "/home/mikhail/.anaconda3/lib/python3.6/site-packages/sklearn/linear_model/logistic.py:947: ConvergenceWarning: lbfgs failed to converge. Increase the number of iterations.\n",
      "  \"of iterations.\", ConvergenceWarning)\n",
      "/home/mikhail/.anaconda3/lib/python3.6/site-packages/sklearn/linear_model/logistic.py:947: ConvergenceWarning: lbfgs failed to converge. Increase the number of iterations.\n",
      "  \"of iterations.\", ConvergenceWarning)\n",
      "/home/mikhail/.anaconda3/lib/python3.6/site-packages/sklearn/linear_model/logistic.py:947: ConvergenceWarning: lbfgs failed to converge. Increase the number of iterations.\n",
      "  \"of iterations.\", ConvergenceWarning)\n",
      "/home/mikhail/.anaconda3/lib/python3.6/site-packages/sklearn/linear_model/logistic.py:947: ConvergenceWarning: lbfgs failed to converge. Increase the number of iterations.\n",
      "  \"of iterations.\", ConvergenceWarning)\n",
      "/home/mikhail/.anaconda3/lib/python3.6/site-packages/sklearn/linear_model/logistic.py:947: ConvergenceWarning: lbfgs failed to converge. Increase the number of iterations.\n",
      "  \"of iterations.\", ConvergenceWarning)\n",
      "/home/mikhail/.anaconda3/lib/python3.6/site-packages/sklearn/linear_model/logistic.py:947: ConvergenceWarning: lbfgs failed to converge. Increase the number of iterations.\n",
      "  \"of iterations.\", ConvergenceWarning)\n",
      "/home/mikhail/.anaconda3/lib/python3.6/site-packages/sklearn/linear_model/logistic.py:947: ConvergenceWarning: lbfgs failed to converge. Increase the number of iterations.\n",
      "  \"of iterations.\", ConvergenceWarning)\n",
      "/home/mikhail/.anaconda3/lib/python3.6/site-packages/sklearn/linear_model/logistic.py:947: ConvergenceWarning: lbfgs failed to converge. Increase the number of iterations.\n",
      "  \"of iterations.\", ConvergenceWarning)\n",
      "/home/mikhail/.anaconda3/lib/python3.6/site-packages/sklearn/linear_model/logistic.py:947: ConvergenceWarning: lbfgs failed to converge. Increase the number of iterations.\n",
      "  \"of iterations.\", ConvergenceWarning)\n"
     ]
    },
    {
     "name": "stdout",
     "output_type": "stream",
     "text": [
      "              precision    recall  f1-score   support\n",
      "\n",
      "           0       0.54      0.74      0.63       570\n",
      "           1       0.51      0.31      0.38       510\n",
      "\n",
      "    accuracy                           0.53      1080\n",
      "   macro avg       0.53      0.52      0.50      1080\n",
      "weighted avg       0.53      0.53      0.51      1080\n",
      "\n"
     ]
    },
    {
     "name": "stderr",
     "output_type": "stream",
     "text": [
      "/home/mikhail/.anaconda3/lib/python3.6/site-packages/sklearn/linear_model/logistic.py:947: ConvergenceWarning: lbfgs failed to converge. Increase the number of iterations.\n",
      "  \"of iterations.\", ConvergenceWarning)\n"
     ]
    }
   ],
   "source": [
    "from sklearn.model_selection import cross_val_predict\n",
    "# cross_val_predict internally do KFold cross-validation, calculate predictions on validation sets\n",
    "# and then merge predictions into a single vector of predictions\n",
    "from sklearn.metrics import classification_report\n",
    "#classification_report gives several quality metrics. It can be used for multiclass problems\n",
    "\n",
    "y_pred = cross_val_predict(LogisticRegressionCV(), X, y)\n",
    "print(classification_report(y, y_pred))"
   ]
  },
  {
   "cell_type": "markdown",
   "metadata": {
    "slideshow": {
     "slide_type": "slide"
    }
   },
   "source": [
    "# Let us explore precision & recall"
   ]
  },
  {
   "cell_type": "markdown",
   "metadata": {
    "slideshow": {
     "slide_type": "subslide"
    }
   },
   "source": [
    "<div style=\"width:100%; text-align:center\">\n",
    "<img src=\"./binary_classification.png\">\n",
    "</div>"
   ]
  },
  {
   "cell_type": "markdown",
   "metadata": {
    "slideshow": {
     "slide_type": "subslide"
    }
   },
   "source": [
    "##  SECOM Data Set\n",
    "https://archive.ics.uci.edu/ml/datasets/SECOM\n",
    "\n",
    "Data from a semi-conductor manufacturing process\n"
   ]
  },
  {
   "cell_type": "code",
   "execution_count": 112,
   "metadata": {
    "slideshow": {
     "slide_type": "fragment"
    }
   },
   "outputs": [],
   "source": [
    "# download inputs\n",
    "import pandas as pd\n",
    "path = 'https://archive.ics.uci.edu/ml/machine-learning-databases/secom/secom.data'\n",
    "X = pd.read_csv(path, sep=' ', header=None)"
   ]
  },
  {
   "cell_type": "code",
   "execution_count": 113,
   "metadata": {
    "slideshow": {
     "slide_type": "subslide"
    }
   },
   "outputs": [
    {
     "name": "stdout",
     "output_type": "stream",
     "text": [
      "(1567, 590)\n",
      "(1432, 590)\n",
      "(1432, 472)\n"
     ]
    }
   ],
   "source": [
    "# We have several points with large number of NAs. Here we drop them\n",
    "print(X.shape)\n",
    "X.dropna(thresh=550, axis=0, inplace=True)\n",
    "print(X.shape)\n",
    "# drop columns with any NaN\n",
    "X.dropna(axis=1, inplace=True)\n",
    "print(X.shape)"
   ]
  },
  {
   "cell_type": "code",
   "execution_count": 114,
   "metadata": {
    "slideshow": {
     "slide_type": "subslide"
    }
   },
   "outputs": [],
   "source": [
    "path = 'https://archive.ics.uci.edu/ml/machine-learning-databases/secom/secom_labels.data'\n",
    "y = pd.read_csv(path, sep=' ', header=None)[0]\n",
    "y = y[X.index]\n",
    "y = y == 1"
   ]
  },
  {
   "cell_type": "code",
   "execution_count": 115,
   "metadata": {
    "slideshow": {
     "slide_type": "subslide"
    }
   },
   "outputs": [
    {
     "data": {
      "text/plain": [
       "False    1337\n",
       "True       95\n",
       "Name: 0, dtype: int64"
      ]
     },
     "execution_count": 115,
     "metadata": {},
     "output_type": "execute_result"
    }
   ],
   "source": [
    "y.value_counts()"
   ]
  },
  {
   "cell_type": "markdown",
   "metadata": {
    "slideshow": {
     "slide_type": "subslide"
    }
   },
   "source": [
    "#### TODO 1:\n",
    " - Import from sklearn.metrics accuracy, precision and recall scores; \n",
    " - also import train_test_split from cross_validation \n",
    " - split data into train & test parts"
   ]
  },
  {
   "cell_type": "code",
   "execution_count": 119,
   "metadata": {},
   "outputs": [],
   "source": [
    "from sklearn.metrics import precision_score, recall_score\n",
    "X_train, X_test, y_train, y_test = train_test_split(X, y, test_size=0.33)"
   ]
  },
  {
   "cell_type": "markdown",
   "metadata": {
    "slideshow": {
     "slide_type": "subslide"
    }
   },
   "source": [
    "#### TODO 2: estimate Precision, Recall on the train set\n"
   ]
  },
  {
   "cell_type": "code",
   "execution_count": 129,
   "metadata": {},
   "outputs": [],
   "source": [
    "# these two lines block ConvergenceWarning. \n",
    "# Sometimes these warnings may be a useful indicator (e.g. if you don't normalize you data)\n",
    "from sklearn.exceptions import ConvergenceWarning\n",
    "simplefilter(action='ignore', category=ConvergenceWarning)"
   ]
  },
  {
   "cell_type": "code",
   "execution_count": 130,
   "metadata": {},
   "outputs": [
    {
     "name": "stdout",
     "output_type": "stream",
     "text": [
      "Accuracy 0.948905109489051\n",
      "Precision 0.9047619047619048\n",
      "Recall 0.2878787878787879\n"
     ]
    }
   ],
   "source": [
    "clf = LogisticRegression()\n",
    "clf.fit(X_train, y_train)\n",
    "\n",
    "print('Accuracy', accuracy_score(y_train, clf.predict(X_train)))\n",
    "print('Precision', precision_score(y_train, clf.predict(X_train)))\n",
    "print('Recall', recall_score(y_train, clf.predict(X_train)))"
   ]
  },
  {
   "cell_type": "markdown",
   "metadata": {
    "slideshow": {
     "slide_type": "subslide"
    }
   },
   "source": [
    "#### TODO 3: estimate Accuracy, Precision, Recall on the test set\n"
   ]
  },
  {
   "cell_type": "code",
   "execution_count": 121,
   "metadata": {},
   "outputs": [
    {
     "name": "stdout",
     "output_type": "stream",
     "text": [
      "Accuracy 0.9175475687103594\n",
      "Precision 0.14285714285714285\n",
      "Recall 0.06896551724137931\n"
     ]
    }
   ],
   "source": [
    "print('Accuracy', accuracy_score(y_test, clf.predict(X_test)))\n",
    "print('Precision', precision_score(y_test, clf.predict(X_test)))\n",
    "print('Recall', recall_score(y_test, clf.predict(X_test)))"
   ]
  },
  {
   "cell_type": "markdown",
   "metadata": {},
   "source": [
    "#### Awful results on the test set. Any ideas?"
   ]
  },
  {
   "cell_type": "markdown",
   "metadata": {},
   "source": [
    "#### Probably, we can select better value of regularization parameter C\n",
    "#### TODO 4: replace LogisticRegression by LogisticRegressionCV & check the results\n"
   ]
  },
  {
   "cell_type": "code",
   "execution_count": 131,
   "metadata": {},
   "outputs": [
    {
     "name": "stdout",
     "output_type": "stream",
     "text": [
      "Accuracy 0.9238900634249472\n",
      "Precision 0.1111111111111111\n",
      "Recall 0.034482758620689655\n"
     ]
    }
   ],
   "source": [
    "# LogisticRegressionCV automatically selects C using embedded cross-validation\n",
    "clf = LogisticRegressionCV()\n",
    "clf.fit(X_train, y_train)\n",
    "\n",
    "print('Accuracy', accuracy_score(y_test, clf.predict(X_test)))\n",
    "print('Precision', precision_score(y_test, clf.predict(X_test)))\n",
    "print('Recall', recall_score(y_test, clf.predict(X_test)))"
   ]
  },
  {
   "cell_type": "markdown",
   "metadata": {},
   "source": [
    "#### No progress"
   ]
  },
  {
   "cell_type": "markdown",
   "metadata": {},
   "source": [
    "#### But, components of our data have significantly different ranges"
   ]
  },
  {
   "cell_type": "code",
   "execution_count": 74,
   "metadata": {},
   "outputs": [
    {
     "data": {
      "text/plain": [
       "8        0.4654\n",
       "9        0.1221\n",
       "10       0.0879\n",
       "11       0.1073\n",
       "12      89.9511\n",
       "         ...   \n",
       "577     92.3781\n",
       "586      0.1197\n",
       "587      0.0767\n",
       "588      0.0276\n",
       "589    737.3048\n",
       "Length: 472, dtype: float64"
      ]
     },
     "execution_count": 74,
     "metadata": {},
     "output_type": "execute_result"
    }
   ],
   "source": [
    "X.max(0) - X.min(0)"
   ]
  },
  {
   "cell_type": "code",
   "execution_count": 133,
   "metadata": {},
   "outputs": [],
   "source": [
    "from sklearn.pipeline import make_pipeline\n",
    "from sklearn.preprocessing import StandardScaler"
   ]
  },
  {
   "cell_type": "code",
   "execution_count": 134,
   "metadata": {},
   "outputs": [
    {
     "name": "stdout",
     "output_type": "stream",
     "text": [
      "Accuracy 0.864693446088795\n",
      "Precision 0.1568627450980392\n",
      "Recall 0.27586206896551724\n"
     ]
    }
   ],
   "source": [
    "clf = make_pipeline(StandardScaler(), LogisticRegressionCV(scoring='recall'))\n",
    "\n",
    "# TODO 5: estimate quality metrics on both train and test sets\n",
    "clf.fit(X_train, y_train)\n",
    "\n",
    "print('Accuracy', accuracy_score(y_test, clf.predict(X_test)))\n",
    "print('Precision', precision_score(y_test, clf.predict(X_test)))\n",
    "print('Recall', recall_score(y_test, clf.predict(X_test)))"
   ]
  },
  {
   "cell_type": "code",
   "execution_count": 135,
   "metadata": {},
   "outputs": [],
   "source": [
    "# both precision & recall values have been improved"
   ]
  },
  {
   "cell_type": "markdown",
   "metadata": {},
   "source": [
    "# Links\n",
    " - [A blog post on cross validation](http://sebastianraschka.com/blog/2016/model-evaluation-selection-part3.html)\n",
    " - Also, check out two other posts from the same series \"Model evaluation, model selection, and algorithm selection in machine learning\": [The basics](http://sebastianraschka.com/blog/2016/model-evaluation-selection-part1.html) and [Bootstrapping and uncertainties](http://sebastianraschka.com/blog/2016/model-evaluation-selection-part2.html)"
   ]
  }
 ],
 "metadata": {
  "anaconda-cloud": {},
  "celltoolbar": "Slideshow",
  "kernelspec": {
   "display_name": "Python 3",
   "language": "python",
   "name": "python3"
  },
  "language_info": {
   "codemirror_mode": {
    "name": "ipython",
    "version": 3
   },
   "file_extension": ".py",
   "mimetype": "text/x-python",
   "name": "python",
   "nbconvert_exporter": "python",
   "pygments_lexer": "ipython3",
   "version": "3.6.8"
  }
 },
 "nbformat": 4,
 "nbformat_minor": 1
}
